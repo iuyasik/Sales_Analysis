{
 "cells": [
  {
   "cell_type": "markdown",
   "metadata": {},
   "source": [
    "Aim: An healthcare app changed the layout to attrack more customers to their layout. They would like to see if the new layout was able to increase customer engagement by looking at views and clicks. "
   ]
  },
  {
   "cell_type": "markdown",
   "metadata": {},
   "source": [
    "Results: Eventhough the views increased 0.6%, the increase was a random occurance, statistically not significant. Click increase 16% which was also statistically significant. \n",
    "\n",
    "We can say that the path to new layout designed catched the customer's eye, created curiosity and ended up in customer engagement. However after seeing the landing page the engagement stopped. \n",
    "\n",
    "The path to new layout is succesfful however the layout page should be redesigned. "
   ]
  },
  {
   "cell_type": "markdown",
   "metadata": {},
   "source": [
    "Approach:\n",
    "1-Exploratory data analysis\n",
    "2-Split & Define Control Group & Test Group\n",
    "3-Test for Normality - Shapiro Test\n",
    "4-Test For Homogenity - Levene's Test for Equal Variances\n",
    "5-Statistical Tests - Mann-Whitney U test\n",
    "6-Results"
   ]
  },
  {
   "cell_type": "markdown",
   "metadata": {},
   "source": [
    "## 1-Exploratory data analysis"
   ]
  },
  {
   "cell_type": "code",
   "execution_count": 13,
   "metadata": {},
   "outputs": [],
   "source": [
    "# Import pandas \n",
    "import pandas as pd\n",
    "\n",
    "# Load ab_test data from pandas\n",
    "test_data = pd.read_csv('ab_test_data.csv')"
   ]
  },
  {
   "cell_type": "code",
   "execution_count": 14,
   "metadata": {},
   "outputs": [
    {
     "data": {
      "text/html": [
       "<div>\n",
       "<style scoped>\n",
       "    .dataframe tbody tr th:only-of-type {\n",
       "        vertical-align: middle;\n",
       "    }\n",
       "\n",
       "    .dataframe tbody tr th {\n",
       "        vertical-align: top;\n",
       "    }\n",
       "\n",
       "    .dataframe thead th {\n",
       "        text-align: right;\n",
       "    }\n",
       "</style>\n",
       "<table border=\"1\" class=\"dataframe\">\n",
       "  <thead>\n",
       "    <tr style=\"text-align: right;\">\n",
       "      <th></th>\n",
       "      <th>user_id</th>\n",
       "      <th>group</th>\n",
       "      <th>views</th>\n",
       "      <th>clicks</th>\n",
       "    </tr>\n",
       "  </thead>\n",
       "  <tbody>\n",
       "    <tr>\n",
       "      <th>0</th>\n",
       "      <td>1</td>\n",
       "      <td>control</td>\n",
       "      <td>3.0</td>\n",
       "      <td>0.0</td>\n",
       "    </tr>\n",
       "    <tr>\n",
       "      <th>1</th>\n",
       "      <td>2</td>\n",
       "      <td>control</td>\n",
       "      <td>1.0</td>\n",
       "      <td>0.0</td>\n",
       "    </tr>\n",
       "    <tr>\n",
       "      <th>2</th>\n",
       "      <td>3</td>\n",
       "      <td>control</td>\n",
       "      <td>3.0</td>\n",
       "      <td>1.0</td>\n",
       "    </tr>\n",
       "    <tr>\n",
       "      <th>3</th>\n",
       "      <td>4</td>\n",
       "      <td>control</td>\n",
       "      <td>5.0</td>\n",
       "      <td>0.0</td>\n",
       "    </tr>\n",
       "    <tr>\n",
       "      <th>4</th>\n",
       "      <td>5</td>\n",
       "      <td>control</td>\n",
       "      <td>2.0</td>\n",
       "      <td>0.0</td>\n",
       "    </tr>\n",
       "  </tbody>\n",
       "</table>\n",
       "</div>"
      ],
      "text/plain": [
       "   user_id    group  views  clicks\n",
       "0        1  control    3.0     0.0\n",
       "1        2  control    1.0     0.0\n",
       "2        3  control    3.0     1.0\n",
       "3        4  control    5.0     0.0\n",
       "4        5  control    2.0     0.0"
      ]
     },
     "execution_count": 14,
     "metadata": {},
     "output_type": "execute_result"
    }
   ],
   "source": [
    "test_data.head()"
   ]
  },
  {
   "cell_type": "code",
   "execution_count": 15,
   "metadata": {},
   "outputs": [
    {
     "data": {
      "text/html": [
       "<div>\n",
       "<style scoped>\n",
       "    .dataframe tbody tr th:only-of-type {\n",
       "        vertical-align: middle;\n",
       "    }\n",
       "\n",
       "    .dataframe tbody tr th {\n",
       "        vertical-align: top;\n",
       "    }\n",
       "\n",
       "    .dataframe thead th {\n",
       "        text-align: right;\n",
       "    }\n",
       "</style>\n",
       "<table border=\"1\" class=\"dataframe\">\n",
       "  <thead>\n",
       "    <tr style=\"text-align: right;\">\n",
       "      <th></th>\n",
       "      <th>user_id</th>\n",
       "      <th>views</th>\n",
       "      <th>clicks</th>\n",
       "    </tr>\n",
       "  </thead>\n",
       "  <tbody>\n",
       "    <tr>\n",
       "      <th>count</th>\n",
       "      <td>80000.000000</td>\n",
       "      <td>80000.000000</td>\n",
       "      <td>80000.000000</td>\n",
       "    </tr>\n",
       "    <tr>\n",
       "      <th>mean</th>\n",
       "      <td>40000.500000</td>\n",
       "      <td>4.998263</td>\n",
       "      <td>0.373437</td>\n",
       "    </tr>\n",
       "    <tr>\n",
       "      <th>std</th>\n",
       "      <td>23094.155105</td>\n",
       "      <td>5.915452</td>\n",
       "      <td>0.746015</td>\n",
       "    </tr>\n",
       "    <tr>\n",
       "      <th>min</th>\n",
       "      <td>1.000000</td>\n",
       "      <td>1.000000</td>\n",
       "      <td>0.000000</td>\n",
       "    </tr>\n",
       "    <tr>\n",
       "      <th>25%</th>\n",
       "      <td>20000.750000</td>\n",
       "      <td>2.000000</td>\n",
       "      <td>0.000000</td>\n",
       "    </tr>\n",
       "    <tr>\n",
       "      <th>50%</th>\n",
       "      <td>40000.500000</td>\n",
       "      <td>3.000000</td>\n",
       "      <td>0.000000</td>\n",
       "    </tr>\n",
       "    <tr>\n",
       "      <th>75%</th>\n",
       "      <td>60000.250000</td>\n",
       "      <td>6.000000</td>\n",
       "      <td>1.000000</td>\n",
       "    </tr>\n",
       "    <tr>\n",
       "      <th>max</th>\n",
       "      <td>80000.000000</td>\n",
       "      <td>206.000000</td>\n",
       "      <td>21.000000</td>\n",
       "    </tr>\n",
       "  </tbody>\n",
       "</table>\n",
       "</div>"
      ],
      "text/plain": [
       "            user_id         views        clicks\n",
       "count  80000.000000  80000.000000  80000.000000\n",
       "mean   40000.500000      4.998263      0.373437\n",
       "std    23094.155105      5.915452      0.746015\n",
       "min        1.000000      1.000000      0.000000\n",
       "25%    20000.750000      2.000000      0.000000\n",
       "50%    40000.500000      3.000000      0.000000\n",
       "75%    60000.250000      6.000000      1.000000\n",
       "max    80000.000000    206.000000     21.000000"
      ]
     },
     "execution_count": 15,
     "metadata": {},
     "output_type": "execute_result"
    }
   ],
   "source": [
    "#Looking at dataset to see in any irregularity shows up \n",
    "test_data.describe()"
   ]
  },
  {
   "cell_type": "code",
   "execution_count": 16,
   "metadata": {},
   "outputs": [
    {
     "data": {
      "text/plain": [
       "user_id    0\n",
       "group      0\n",
       "views      0\n",
       "clicks     0\n",
       "dtype: int64"
      ]
     },
     "execution_count": 16,
     "metadata": {},
     "output_type": "execute_result"
    }
   ],
   "source": [
    "# Checking dataset for null values\n",
    "test_data.isnull().sum()"
   ]
  },
  {
   "cell_type": "code",
   "execution_count": 17,
   "metadata": {},
   "outputs": [
    {
     "data": {
      "text/html": [
       "<div>\n",
       "<style scoped>\n",
       "    .dataframe tbody tr th:only-of-type {\n",
       "        vertical-align: middle;\n",
       "    }\n",
       "\n",
       "    .dataframe tbody tr th {\n",
       "        vertical-align: top;\n",
       "    }\n",
       "\n",
       "    .dataframe thead th {\n",
       "        text-align: right;\n",
       "    }\n",
       "</style>\n",
       "<table border=\"1\" class=\"dataframe\">\n",
       "  <thead>\n",
       "    <tr style=\"text-align: right;\">\n",
       "      <th></th>\n",
       "      <th>user_count</th>\n",
       "      <th>views</th>\n",
       "      <th>clicks</th>\n",
       "    </tr>\n",
       "    <tr>\n",
       "      <th>group</th>\n",
       "      <th></th>\n",
       "      <th></th>\n",
       "      <th></th>\n",
       "    </tr>\n",
       "  </thead>\n",
       "  <tbody>\n",
       "    <tr>\n",
       "      <th>control</th>\n",
       "      <td>40000</td>\n",
       "      <td>4.981050</td>\n",
       "      <td>0.345725</td>\n",
       "    </tr>\n",
       "    <tr>\n",
       "      <th>test</th>\n",
       "      <td>40000</td>\n",
       "      <td>5.015475</td>\n",
       "      <td>0.401150</td>\n",
       "    </tr>\n",
       "  </tbody>\n",
       "</table>\n",
       "</div>"
      ],
      "text/plain": [
       "         user_count     views    clicks\n",
       "group                                  \n",
       "control       40000  4.981050  0.345725\n",
       "test          40000  5.015475  0.401150"
      ]
     },
     "execution_count": 17,
     "metadata": {},
     "output_type": "execute_result"
    }
   ],
   "source": [
    "# Check number of participants in each group to see if there is an unbalance between two groups.  \n",
    "# Group the data by 'group' column and calculate count, mean\n",
    "summary = test_data.groupby('group').agg({'user_id': 'count', 'views': 'mean', 'clicks': 'mean'})\n",
    "\n",
    "# Rename the columns for clarity\n",
    "summary = summary.rename(columns={'user_id': 'user_count'})\n",
    "\n",
    "# Print the summary\n",
    "summary"
   ]
  },
  {
   "cell_type": "markdown",
   "metadata": {},
   "source": [
    "## 2-Split & Define Control Group & Test Group"
   ]
  },
  {
   "cell_type": "code",
   "execution_count": 19,
   "metadata": {},
   "outputs": [],
   "source": [
    "# Split & Define Control Group & Test Group\n",
    "control_group = test_data[test_data['group'] == 'control']\n",
    "test_group = test_data[test_data['group'] == 'test']\n",
    "\n",
    "clicks_control = control_group['clicks']\n",
    "clicks_test = test_group['clicks']\n",
    "\n",
    "views_control = control_group['views']\n",
    "views_test = test_group['views']"
   ]
  },
  {
   "cell_type": "markdown",
   "metadata": {},
   "source": [
    "## 3-Test for Normality"
   ]
  },
  {
   "cell_type": "code",
   "execution_count": 24,
   "metadata": {},
   "outputs": [
    {
     "name": "stdout",
     "output_type": "stream",
     "text": [
      "Control Group Shapiro-Wilk Test:\n",
      "Test statistic: 0.529559850692749\n",
      "p-value: 0.0\n",
      "\n",
      "Test Group Shapiro-Wilk Test:\n",
      "Test statistic: 0.5533393621444702\n",
      "p-value: 0.0\n",
      "'clicks_control' data is not likely normally distributed.\n",
      "'clicks_test' data is not likely normally distributed.\n"
     ]
    }
   ],
   "source": [
    "# Perform Shapiro-Wilk test for 'clicks_control'\n",
    "clicks_control_normality = stats.shapiro(clicks_control)\n",
    "clicks_control_shapiro_stat, clicks_control_shapiro_pvalue = clicks_control_normality\n",
    "\n",
    "# Perform Shapiro-Wilk test for 'clicks_test'\n",
    "clicks_test_normality = stats.shapiro(clicks_test)\n",
    "clicks_test_shapiro_stat, clicks_test_shapiro_pvalue = clicks_test_normality\n",
    "\n",
    "# Print the results\n",
    "print(\"Control Group Shapiro-Wilk Test:\")\n",
    "print(\"Test statistic:\", control_group_shapiro_stat)\n",
    "print(\"p-value:\", control_group_shapiro_pvalue)\n",
    "\n",
    "print(\"\\nTest Group Shapiro-Wilk Test:\")\n",
    "print(\"Test statistic:\", test_group_shapiro_stat)\n",
    "print(\"p-value:\", test_group_shapiro_pvalue)\n",
    "\n",
    "\n",
    "# Check normality assumption for 'clicks_control'\n",
    "if clicks_control_shapiro_pvalue > 0.05:\n",
    "    print(\"'clicks_control' data is likely normally distributed.\")\n",
    "else:\n",
    "    print(\"'clicks_control' data is not likely normally distributed.\")\n",
    "\n",
    "# Check normality assumption for 'clicks_test'\n",
    "if clicks_test_shapiro_pvalue > 0.05:\n",
    "    print(\"'clicks_test' data is likely normally distributed.\")\n",
    "else:\n",
    "    print(\"'clicks_test' data is not likely normally distributed.\")\n"
   ]
  },
  {
   "cell_type": "code",
   "execution_count": 37,
   "metadata": {},
   "outputs": [
    {
     "name": "stdout",
     "output_type": "stream",
     "text": [
      "'views_control' data is not likely normally distributed.\n",
      "'views_test' data is not likely normally distributed.\n"
     ]
    }
   ],
   "source": [
    "# Perform Shapiro-Wilk test for 'views_control'\n",
    "views_control_normality = stats.shapiro(views_control)\n",
    "views_control_shapiro_stat, views_control_shapiro_pvalue = views_control_normality\n",
    "\n",
    "# Perform Shapiro-Wilk test for 'views_test'\n",
    "views_test_normality = stats.shapiro(views_test)\n",
    "views_test_shapiro_stat, views_test_shapiro_pvalue = views_test_normality\n",
    "\n",
    "# Check normality assumption for 'views_control'\n",
    "if views_control_shapiro_pvalue > 0.05:\n",
    "    print(\"'views_control' data is likely normally distributed.\")\n",
    "else:\n",
    "    print(\"'views_control' data is not likely normally distributed.\")\n",
    "\n",
    "# Check normality assumption for 'views_test'\n",
    "if views_test_shapiro_pvalue > 0.05:\n",
    "    print(\"'views_test' data is likely normally distributed.\")\n",
    "else:\n",
    "    print(\"'views_test' data is not likely normally distributed.\")\n"
   ]
  },
  {
   "cell_type": "code",
   "execution_count": 39,
   "metadata": {},
   "outputs": [
    {
     "name": "stdout",
     "output_type": "stream",
     "text": [
      "Shapiro-Wilk Test for 'views_control':\n",
      "Test statistic: 0.5790681838989258\n",
      "p-value: 0.0\n",
      "'views_control' data is not likely normally distributed.\n",
      "Shapiro-Wilk Test for 'views_test':\n",
      "Test statistic: 0.5835747718811035\n",
      "p-value: 0.0\n",
      "'views_test' data is not likely normally distributed.\n"
     ]
    }
   ],
   "source": [
    "# Perform Shapiro-Wilk test for 'views_control'\n",
    "views_control_normality = stats.shapiro(views_control)\n",
    "views_control_shapiro_stat, views_control_shapiro_pvalue = views_control_normality\n",
    "\n",
    "# Perform Shapiro-Wilk test for 'views_test'\n",
    "views_test_normality = stats.shapiro(views_test)\n",
    "views_test_shapiro_stat, views_test_shapiro_pvalue = views_test_normality\n",
    "\n",
    "# Print Shapiro-Wilk test statistic and p-value for 'views_control'\n",
    "print(\"Shapiro-Wilk Test for 'views_control':\")\n",
    "print(\"Test statistic:\", views_control_shapiro_stat)\n",
    "print(\"p-value:\", views_control_shapiro_pvalue)\n",
    "\n",
    "# Check normality assumption for 'views_control'\n",
    "if views_control_shapiro_pvalue > 0.05:\n",
    "    print(\"'views_control' data is likely normally distributed.\")\n",
    "else:\n",
    "    print(\"'views_control' data is not likely normally distributed.\")\n",
    "\n",
    "# Print Shapiro-Wilk test statistic and p-value for 'views_test'\n",
    "print(\"Shapiro-Wilk Test for 'views_test':\")\n",
    "print(\"Test statistic:\", views_test_shapiro_stat)\n",
    "print(\"p-value:\", views_test_shapiro_pvalue)\n",
    "\n",
    "# Check normality assumption for 'views_test'\n",
    "if views_test_shapiro_pvalue > 0.05:\n",
    "    print(\"'views_test' data is likely normally distributed.\")\n",
    "else:\n",
    "    print(\"'views_test' data is not likely normally distributed.\")"
   ]
  },
  {
   "cell_type": "markdown",
   "metadata": {},
   "source": [
    "## 4-Test For Homogenity"
   ]
  },
  {
   "cell_type": "code",
   "execution_count": 28,
   "metadata": {},
   "outputs": [
    {
     "name": "stdout",
     "output_type": "stream",
     "text": [
      "Equal variances cannot be assumed (p <= 0.05)\n"
     ]
    }
   ],
   "source": [
    "import scipy.stats as stats\n",
    "\n",
    "# Perform Levene's test for equal variances\n",
    "levene_test = stats.levene(clicks_control, clicks_test)\n",
    "levene_statistic, levene_pvalue = levene_test\n",
    "\n",
    "# Check the results\n",
    "if levene_pvalue > 0.05:\n",
    "    print(\"Equal variances can be assumed (p > 0.05)\")\n",
    "else:\n",
    "    print(\"Equal variances cannot be assumed (p <= 0.05)\")\n"
   ]
  },
  {
   "cell_type": "code",
   "execution_count": 29,
   "metadata": {},
   "outputs": [
    {
     "name": "stdout",
     "output_type": "stream",
     "text": [
      "Equal variances can be assumed (p > 0.05) for views\n"
     ]
    }
   ],
   "source": [
    "# Perform Levene's test for equal variances\n",
    "levene_test_views = stats.levene(views_control, views_test)\n",
    "levene_statistic_views, levene_pvalue_views = levene_test_views\n",
    "\n",
    "# Check the results\n",
    "if levene_pvalue_views > 0.05:\n",
    "    print(\"Equal variances can be assumed (p > 0.05) for views\")\n",
    "else:\n",
    "    print(\"Equal variances cannot be assumed (p <= 0.05) for views\")"
   ]
  },
  {
   "cell_type": "markdown",
   "metadata": {},
   "source": [
    "## 5-Statistical Tests"
   ]
  },
  {
   "cell_type": "markdown",
   "metadata": {},
   "source": [
    "Clicks follow an non-normal distribution with no equal variances. \n",
    "\n",
    "In case of where the data does not follow a normal distribution and the variances are not equal between the control and test groups, use a non-parametric test, the Mann-Whitney U test (also known as the Wilcoxon rank-sum test).\n",
    "\n",
    "The Mann-Whitney U test is suitable for comparing two independent groups when the data do not meet the assumptions of normality and equal variances. It is based on the ranks of the data and does not require the assumption of a specific distribution. The test assesses whether there is a significant difference in the medians of the two groups."
   ]
  },
  {
   "cell_type": "code",
   "execution_count": 33,
   "metadata": {},
   "outputs": [
    {
     "name": "stdout",
     "output_type": "stream",
     "text": [
      "Mann-Whitney U Test:\n",
      "Test statistic: 773256088.0\n",
      "p-value: 1.0192425013679933e-25\n",
      "There is a significant difference between the control and test groups for clicks.\n"
     ]
    }
   ],
   "source": [
    "# Clicks\n",
    "\n",
    "import scipy.stats as stats\n",
    "\n",
    "# Perform Mann-Whitney U test\n",
    "mannwhitneyu_test = stats.mannwhitneyu(clicks_control, clicks_test, alternative='two-sided')\n",
    "mannwhitneyu_statistic, mannwhitneyu_pvalue = mannwhitneyu_test\n",
    "\n",
    "# Print the results\n",
    "print(\"Mann-Whitney U Test:\")\n",
    "print(\"Test statistic:\", mannwhitneyu_statistic)\n",
    "print(\"p-value:\", mannwhitneyu_pvalue)\n",
    "\n",
    "# Check the significance\n",
    "if mannwhitneyu_pvalue < 0.05:\n",
    "    print(\"There is a significant difference between the control and test groups for clicks.\")\n",
    "else:\n",
    "    print(\"There is no significant difference between the control and test groups for clicks.\")\n"
   ]
  },
  {
   "cell_type": "markdown",
   "metadata": {},
   "source": [
    "Views follow an non-normal distribution with equal variances. \n",
    "\n",
    "You can use the Mann-Whitney U test (also known as the Wilcoxon rank-sum test) in both cases of equal variances and unequal variances. The Mann-Whitney U test is a non-parametric test that does not rely on the assumption of equal variances.\n",
    "\n",
    "In the case of equal variances, you can use the Mann-Whitney U test to compare the medians of two independent groups. The test is based on the ranks of the data and does not require the assumption of a specific distribution. It is a suitable choice when the normality assumption and equal variance assumption are violated.\n",
    "\n",
    "In the case of unequal variances, the Mann-Whitney U test can still be applied. It remains a valid test for comparing the medians of two independent groups even when the variances are not equal. However, it is important to note that the Mann-Whitney U test does not specifically account for unequal variances. If you have unequal variances and are interested in testing specifically for differences in means, you may consider alternative tests such as the Welch's t-test or the t-test with unequal variances."
   ]
  },
  {
   "cell_type": "code",
   "execution_count": 34,
   "metadata": {},
   "outputs": [
    {
     "name": "stdout",
     "output_type": "stream",
     "text": [
      "Mann-Whitney U Test:\n",
      "Test statistic: 797185989.5\n",
      "p-value: 0.3838297976545195\n",
      "There is no significant difference between the control and test groups for views.\n"
     ]
    }
   ],
   "source": [
    "# Views \n",
    "\n",
    "# Perform Mann-Whitney U test\n",
    "mannwhitneyu_test_views = stats.mannwhitneyu(views_control, views_test, alternative='two-sided')\n",
    "mannwhitneyu_statistic_views, mannwhitneyu_pvalue_views = mannwhitneyu_test_views\n",
    "\n",
    "# Print the results\n",
    "print(\"Mann-Whitney U Test:\")\n",
    "print(\"Test statistic:\", mannwhitneyu_statistic_views)\n",
    "print(\"p-value:\", mannwhitneyu_pvalue_views)\n",
    "\n",
    "# Check the results\n",
    "if mannwhitneyu_pvalue_views < 0.05:\n",
    "    print(\"There is a significant difference between the control and test groups for views.\")\n",
    "else:\n",
    "    print(\"There is no significant difference between the control and test groups for views.\")\n"
   ]
  },
  {
   "cell_type": "markdown",
   "metadata": {},
   "source": [
    "## 6- Results"
   ]
  },
  {
   "cell_type": "code",
   "execution_count": 35,
   "metadata": {},
   "outputs": [
    {
     "name": "stdout",
     "output_type": "stream",
     "text": [
      "Clicks:\n",
      "Difference in means: 0.055425\n",
      "Percent change: 16.031527948513993\n",
      "\n",
      "Views:\n",
      "Difference in means: 0.034425000000000594\n",
      "Percent change: 0.6911193423073568\n"
     ]
    }
   ],
   "source": [
    "# Calculate the difference in means for clicks\n",
    "clicks_control_mean = clicks_control.mean()\n",
    "clicks_test_mean = clicks_test.mean()\n",
    "clicks_difference = clicks_test_mean - clicks_control_mean\n",
    "\n",
    "# Calculate the percent change for clicks\n",
    "clicks_percent_change = (clicks_difference / clicks_control_mean) * 100\n",
    "\n",
    "# Calculate the difference in means for views\n",
    "views_control_mean = views_control.mean()\n",
    "views_test_mean = views_test.mean()\n",
    "views_difference = views_test_mean - views_control_mean\n",
    "\n",
    "# Calculate the percent change for views\n",
    "views_percent_change = (views_difference / views_control_mean) * 100\n",
    "\n",
    "# Print the results\n",
    "print(\"Clicks:\")\n",
    "print(\"Difference in means:\", clicks_difference)\n",
    "print(\"Percent change:\", clicks_percent_change)\n",
    "\n",
    "print(\"\\nViews:\")\n",
    "print(\"Difference in means:\", views_difference)\n",
    "print(\"Percent change:\", views_percent_change)\n"
   ]
  }
 ],
 "metadata": {
  "kernelspec": {
   "display_name": "Python 3",
   "language": "python",
   "name": "python3"
  },
  "language_info": {
   "codemirror_mode": {
    "name": "ipython",
    "version": 3
   },
   "file_extension": ".py",
   "mimetype": "text/x-python",
   "name": "python",
   "nbconvert_exporter": "python",
   "pygments_lexer": "ipython3",
   "version": "3.8.5"
  }
 },
 "nbformat": 4,
 "nbformat_minor": 4
}
