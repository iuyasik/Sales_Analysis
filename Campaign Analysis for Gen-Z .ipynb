{
 "cells": [
  {
   "cell_type": "markdown",
   "metadata": {},
   "source": [
    "Project Name: Analysis of an influence campaign of Sissy Mua"
   ]
  },
  {
   "cell_type": "markdown",
   "metadata": {},
   "source": [
    "Date: 4 September 2020 \n",
    "Budget: 30.000 € \n",
    "Objective of Campaign: To recruit new Generation Z customers from social networks. \n",
    "Aim of Analysis: \n",
    "A)The team in charge of this influence campaign wants to know if the objective of rejuvenating its target population has been achieved. \n",
    "B)If this campaign was profitable for Decathlon. "
   ]
  },
  {
   "cell_type": "markdown",
   "metadata": {},
   "source": [
    "Conclusion\n",
    "\n",
    "In general Gen-Z customers did more shopping but bought less quantity of products. The increase in number of Gen-Z customers was not related to campaign, mostly existing Gen-Z customers were effected from the campaign. Eventhough visits to website increaed it was the existing Gen-Z customers who did the shopping. \n",
    "\n",
    "Sales by quantity were decreased in both Gen-Z and general audience. In a time like this the campaign created a successful stir in sales numbers. The campaign was overall profitable. \n",
    "\n",
    "Details: \n",
    "\n",
    "-Gen-Z customers purchases increased 27% compared to before campaign. \n",
    "-Eventhough the campaign was able to attrack new Gen-Z customers, the increase was not related to campaign. \n",
    "-In digital store, general product reviews and rating stayed the same but unique visitors increased 23%.\n",
    "-In general sales by quantity of items decreased 4% and for Gen-Z it decreased for 6%.  \n",
    "-Purchase of campaign products incrased 400x in general audience and 900x in Gen-Z customers.\n",
    "-When the budget and returned products are removed, the campaign achieved 191,603.80 profit.\n",
    "-The campaigh had a profitability rate of 86%. "
   ]
  },
  {
   "cell_type": "code",
   "execution_count": 4,
   "metadata": {},
   "outputs": [],
   "source": [
    "import pandas as pd\n",
    "import numpy as np"
   ]
  },
  {
   "cell_type": "code",
   "execution_count": 5,
   "metadata": {},
   "outputs": [],
   "source": [
    "# Import datasets\n",
    "business_unit_df = pd.read_csv('d_business_unit.csv')\n",
    "customers_df = pd.read_csv('d_customers.csv')\n",
    "sku_df = pd.read_csv('d_sku.csv')\n",
    "transaction_df = pd.read_csv('f_transaction_detail.csv')\n",
    "flow_audience_df = pd.read_csv('flow_audience.csv')"
   ]
  },
  {
   "cell_type": "markdown",
   "metadata": {},
   "source": [
    "Part A: Reaching Gen-Z\n",
    "\n",
    "A.1) If the sales for Gen-Z increased or not?\n",
    "A.2) If there had been significant change in number of Gen-Z customers?\n",
    "A.3) If there had been a significant increase product reviews among general audience? \n",
    "\n",
    "Part B: Sales & Profit\n",
    "\n",
    "B.1) If the sales by quantity in general population increased or not?\n",
    "B.2) If the sales of the campaign products increased or not? \n",
    "B.2) Measuring Profitability of Campaing"
   ]
  },
  {
   "cell_type": "markdown",
   "metadata": {},
   "source": [
    "## Part A: Reaching Gen-Z"
   ]
  },
  {
   "cell_type": "markdown",
   "metadata": {},
   "source": [
    "#### A.1)If the sales for Gen-Z increased or not?\n",
    "##### Yes, the sales person for Gen-Z customers increased 27.14% and the difference between before and after was statistically significant. \n"
   ]
  },
  {
   "cell_type": "code",
   "execution_count": null,
   "metadata": {},
   "outputs": [],
   "source": [
    "# In order to find a significant change in number of gen-Z customers I'll use customers_df."
   ]
  },
  {
   "cell_type": "code",
   "execution_count": 6,
   "metadata": {},
   "outputs": [
    {
     "data": {
      "text/html": [
       "<div>\n",
       "<style scoped>\n",
       "    .dataframe tbody tr th:only-of-type {\n",
       "        vertical-align: middle;\n",
       "    }\n",
       "\n",
       "    .dataframe tbody tr th {\n",
       "        vertical-align: top;\n",
       "    }\n",
       "\n",
       "    .dataframe thead th {\n",
       "        text-align: right;\n",
       "    }\n",
       "</style>\n",
       "<table border=\"1\" class=\"dataframe\">\n",
       "  <thead>\n",
       "    <tr style=\"text-align: right;\">\n",
       "      <th></th>\n",
       "      <th>loyalty_card_num</th>\n",
       "      <th>year_birthdate</th>\n",
       "      <th>gender_id</th>\n",
       "      <th>language_id</th>\n",
       "      <th>email_is_valid</th>\n",
       "      <th>mobile_is_valid</th>\n",
       "      <th>loyalty_card_creation_date</th>\n",
       "      <th>but_idr_business_unit_usual</th>\n",
       "      <th>but_idr_business_unit_creator</th>\n",
       "      <th>cnt_country_code_creator</th>\n",
       "      <th>optin_sport</th>\n",
       "      <th>optin_review</th>\n",
       "      <th>optin_event</th>\n",
       "      <th>last_purchase_date</th>\n",
       "    </tr>\n",
       "  </thead>\n",
       "  <tbody>\n",
       "    <tr>\n",
       "      <th>0</th>\n",
       "      <td>879697295889595</td>\n",
       "      <td>1972.0</td>\n",
       "      <td>2.0</td>\n",
       "      <td>FR</td>\n",
       "      <td>True</td>\n",
       "      <td>True</td>\n",
       "      <td>2013-11-28 12:27:00</td>\n",
       "      <td>33640</td>\n",
       "      <td>33640</td>\n",
       "      <td>FR</td>\n",
       "      <td>1</td>\n",
       "      <td>1</td>\n",
       "      <td>1</td>\n",
       "      <td>2021-02-28</td>\n",
       "    </tr>\n",
       "    <tr>\n",
       "      <th>1</th>\n",
       "      <td>333860358022185</td>\n",
       "      <td>1978.0</td>\n",
       "      <td>1.0</td>\n",
       "      <td>FR</td>\n",
       "      <td>True</td>\n",
       "      <td>True</td>\n",
       "      <td>2009-01-13 20:04:00</td>\n",
       "      <td>33785</td>\n",
       "      <td>33962</td>\n",
       "      <td>GP</td>\n",
       "      <td>0</td>\n",
       "      <td>0</td>\n",
       "      <td>0</td>\n",
       "      <td>2021-02-06</td>\n",
       "    </tr>\n",
       "    <tr>\n",
       "      <th>2</th>\n",
       "      <td>61079233998189</td>\n",
       "      <td>NaN</td>\n",
       "      <td>2.0</td>\n",
       "      <td>FR</td>\n",
       "      <td>True</td>\n",
       "      <td>True</td>\n",
       "      <td>2020-09-04 08:25:32</td>\n",
       "      <td>34207</td>\n",
       "      <td>261725</td>\n",
       "      <td>FR</td>\n",
       "      <td>0</td>\n",
       "      <td>0</td>\n",
       "      <td>0</td>\n",
       "      <td>2020-10-07</td>\n",
       "    </tr>\n",
       "    <tr>\n",
       "      <th>3</th>\n",
       "      <td>842643644772525</td>\n",
       "      <td>1974.0</td>\n",
       "      <td>2.0</td>\n",
       "      <td>FR</td>\n",
       "      <td>True</td>\n",
       "      <td>True</td>\n",
       "      <td>2008-02-14 00:00:00</td>\n",
       "      <td>33624</td>\n",
       "      <td>33624</td>\n",
       "      <td>FR</td>\n",
       "      <td>1</td>\n",
       "      <td>1</td>\n",
       "      <td>1</td>\n",
       "      <td>2020-10-09</td>\n",
       "    </tr>\n",
       "    <tr>\n",
       "      <th>4</th>\n",
       "      <td>606624348967155</td>\n",
       "      <td>NaN</td>\n",
       "      <td>2.0</td>\n",
       "      <td>FR</td>\n",
       "      <td>True</td>\n",
       "      <td>True</td>\n",
       "      <td>2019-07-31 16:12:46</td>\n",
       "      <td>33767</td>\n",
       "      <td>33767</td>\n",
       "      <td>FR</td>\n",
       "      <td>0</td>\n",
       "      <td>0</td>\n",
       "      <td>0</td>\n",
       "      <td>2020-09-05</td>\n",
       "    </tr>\n",
       "  </tbody>\n",
       "</table>\n",
       "</div>"
      ],
      "text/plain": [
       "   loyalty_card_num  year_birthdate  gender_id language_id email_is_valid  \\\n",
       "0   879697295889595          1972.0        2.0          FR           True   \n",
       "1   333860358022185          1978.0        1.0          FR           True   \n",
       "2    61079233998189             NaN        2.0          FR           True   \n",
       "3   842643644772525          1974.0        2.0          FR           True   \n",
       "4   606624348967155             NaN        2.0          FR           True   \n",
       "\n",
       "  mobile_is_valid loyalty_card_creation_date  but_idr_business_unit_usual  \\\n",
       "0            True        2013-11-28 12:27:00                        33640   \n",
       "1            True        2009-01-13 20:04:00                        33785   \n",
       "2            True        2020-09-04 08:25:32                        34207   \n",
       "3            True        2008-02-14 00:00:00                        33624   \n",
       "4            True        2019-07-31 16:12:46                        33767   \n",
       "\n",
       "   but_idr_business_unit_creator cnt_country_code_creator  optin_sport  \\\n",
       "0                          33640                       FR            1   \n",
       "1                          33962                       GP            0   \n",
       "2                         261725                       FR            0   \n",
       "3                          33624                       FR            1   \n",
       "4                          33767                       FR            0   \n",
       "\n",
       "   optin_review  optin_event last_purchase_date  \n",
       "0             1            1         2021-02-28  \n",
       "1             0            0         2021-02-06  \n",
       "2             0            0         2020-10-07  \n",
       "3             1            1         2020-10-09  \n",
       "4             0            0         2020-09-05  "
      ]
     },
     "execution_count": 6,
     "metadata": {},
     "output_type": "execute_result"
    }
   ],
   "source": [
    "customers_df.head()"
   ]
  },
  {
   "cell_type": "code",
   "execution_count": 10,
   "metadata": {},
   "outputs": [
    {
     "data": {
      "text/plain": [
       "425151"
      ]
     },
     "execution_count": 10,
     "metadata": {},
     "output_type": "execute_result"
    }
   ],
   "source": [
    "# Number of row\n",
    "customers_df.shape[0]"
   ]
  },
  {
   "cell_type": "code",
   "execution_count": 8,
   "metadata": {},
   "outputs": [
    {
     "data": {
      "text/plain": [
       "loyalty_card_num                      0\n",
       "year_birthdate                    90364\n",
       "gender_id                          6541\n",
       "language_id                           0\n",
       "email_is_valid                     3949\n",
       "mobile_is_valid                  112552\n",
       "loyalty_card_creation_date         1727\n",
       "but_idr_business_unit_usual           0\n",
       "but_idr_business_unit_creator         0\n",
       "cnt_country_code_creator              0\n",
       "optin_sport                           0\n",
       "optin_review                          0\n",
       "optin_event                           0\n",
       "last_purchase_date                  596\n",
       "dtype: int64"
      ]
     },
     "execution_count": 8,
     "metadata": {},
     "output_type": "execute_result"
    }
   ],
   "source": [
    "customers_df.isnull().sum()"
   ]
  },
  {
   "cell_type": "code",
   "execution_count": 12,
   "metadata": {},
   "outputs": [
    {
     "name": "stdout",
     "output_type": "stream",
     "text": [
      "Ratio of people with missing birthdate data: 0.2125456602477708\n"
     ]
    }
   ],
   "source": [
    "# Counting ratio of missing birth year in data\n",
    "total_people = len(customers_df)\n",
    "missing_birthdate_count = customers_df['year_birthdate'].isnull().sum()\n",
    "ratio = missing_birthdate_count / total_people\n",
    "\n",
    "print(\"Ratio of people with missing birthdate data:\", ratio)\n",
    "\n",
    "# 21% of people are missing which is a high value. \n",
    "# Checking other tables, I can see that I can not find this information or feature engineer to create it. \n",
    "# So I'll continue with the rest 79%"
   ]
  },
  {
   "cell_type": "code",
   "execution_count": 25,
   "metadata": {},
   "outputs": [],
   "source": [
    "#Removing outliers \n",
    "\n",
    "Q1 = customers_df['year_birthdate'].quantile(0.25)\n",
    "Q3 = customers_df['year_birthdate'].quantile(0.75)\n",
    "IQR = Q3 - Q1\n",
    "\n",
    "cust_filtered_df = customers_df[(customers_df['year_birthdate'] >= Q1 - 1.5 * IQR) & (customers_df['year_birthdate'] <= Q3 + 1.5 * IQR)]\n"
   ]
  },
  {
   "cell_type": "code",
   "execution_count": 26,
   "metadata": {},
   "outputs": [
    {
     "data": {
      "image/png": "[encoded data removed]",
      "text/plain": [
       "<Figure size 432x288 with 1 Axes>"
      ]
     },
     "metadata": {
      "needs_background": "light"
     },
     "output_type": "display_data"
    }
   ],
   "source": [
    "import matplotlib.pyplot as plt\n",
    "\n",
    "cust_filter_df = customers_df[(customers_df['year_birthdate'] >= 1928) & (customers_df['year_birthdate'] <= 2020)]\n",
    "\n",
    "plt.boxplot(filter_df['year_birthdate'], vert=False)\n",
    "plt.xlabel('Year')\n",
    "plt.title('Distribution of Birth Years')\n",
    "plt.show()\n"
   ]
  },
  {
   "cell_type": "code",
   "execution_count": 27,
   "metadata": {},
   "outputs": [
    {
     "data": {
      "text/plain": [
       "0.7753386443875235"
      ]
     },
     "execution_count": 27,
     "metadata": {},
     "output_type": "execute_result"
    }
   ],
   "source": [
    "cust_filtered_df.shape[0]/customers_df.shape[0]\n",
    "# All the null values and outliers are gone. \n",
    "# Still have 77.5% of the data"
   ]
  },
  {
   "cell_type": "code",
   "execution_count": 31,
   "metadata": {},
   "outputs": [
    {
     "name": "stdout",
     "output_type": "stream",
     "text": [
      "        loyalty_card_num  year_birthdate  gender_id language_id  \\\n",
      "0        879697295889595          1972.0        2.0          FR   \n",
      "1        333860358022185          1978.0        1.0          FR   \n",
      "3        842643644772525          1974.0        2.0          FR   \n",
      "5        240662730725066          1962.0        2.0          FR   \n",
      "8        538776645520172          1968.0        2.0          FR   \n",
      "...                  ...             ...        ...         ...   \n",
      "425145   365846522347713          1962.0        2.0          FR   \n",
      "425146   483448475276972          1977.0        1.0          FR   \n",
      "425148   313203965827419          1975.0        2.0          FR   \n",
      "425149   813966149742906          1969.0        2.0          FR   \n",
      "425150   341523393796752          1984.0        2.0          FR   \n",
      "\n",
      "       email_is_valid mobile_is_valid loyalty_card_creation_date  \\\n",
      "0                True            True        2013-11-28 12:27:00   \n",
      "1                True            True        2009-01-13 20:04:00   \n",
      "3                True            True        2008-02-14 00:00:00   \n",
      "5                True            True        2003-03-01 01:53:00   \n",
      "8                True            True        2004-05-04 01:25:00   \n",
      "...               ...             ...                        ...   \n",
      "425145          False             NaN        2011-04-22 16:40:00   \n",
      "425146          False            True        2003-04-09 01:56:00   \n",
      "425148           True             NaN        2010-04-17 00:00:00   \n",
      "425149           True            True        2002-09-25 04:37:00   \n",
      "425150           True            True        2012-09-12 00:00:00   \n",
      "\n",
      "        but_idr_business_unit_usual  but_idr_business_unit_creator  \\\n",
      "0                             33640                          33640   \n",
      "1                             33785                          33962   \n",
      "3                             33624                          33624   \n",
      "5                             33677                          33704   \n",
      "8                             33704                          33704   \n",
      "...                             ...                            ...   \n",
      "425145                        33814                          33814   \n",
      "425146                        33966                          33601   \n",
      "425148                        33641                          33634   \n",
      "425149                        34080                          33602   \n",
      "425150                        33655                          33655   \n",
      "\n",
      "       cnt_country_code_creator  optin_sport  optin_review  optin_event  \\\n",
      "0                            FR            1             1            1   \n",
      "1                            GP            0             0            0   \n",
      "3                            FR            1             1            1   \n",
      "5                            FR            0             0            0   \n",
      "8                            FR            0             0            0   \n",
      "...                         ...          ...           ...          ...   \n",
      "425145                       FR            0             0            0   \n",
      "425146                       FR            1             1            1   \n",
      "425148                       FR            1             1            1   \n",
      "425149                       FR            1             1            1   \n",
      "425150                       FR            1             1            1   \n",
      "\n",
      "       last_purchase_date  birthdate    generation  \n",
      "0              2021-02-28 1972-01-01         Gen X  \n",
      "1              2021-02-06 1978-01-01   Millennials  \n",
      "3              2020-10-09 1974-01-01         Gen X  \n",
      "5              2020-12-05 1962-01-01  Baby Boomers  \n",
      "8              2021-02-22 1968-01-01         Gen X  \n",
      "...                   ...        ...           ...  \n",
      "425145         2020-09-04 1962-01-01  Baby Boomers  \n",
      "425146         2021-02-22 1977-01-01   Millennials  \n",
      "425148         2020-09-05 1975-01-01         Gen X  \n",
      "425149         2020-10-29 1969-01-01         Gen X  \n",
      "425150         2021-02-04 1984-01-01   Millennials  \n",
      "\n",
      "[329636 rows x 16 columns]\n"
     ]
    },
    {
     "name": "stderr",
     "output_type": "stream",
     "text": [
      "<ipython-input-31-65ab92deafe5>:1: SettingWithCopyWarning: \n",
      "A value is trying to be set on a copy of a slice from a DataFrame.\n",
      "Try using .loc[row_indexer,col_indexer] = value instead\n",
      "\n",
      "See the caveats in the documentation: https://pandas.pydata.org/pandas-docs/stable/user_guide/indexing.html#returning-a-view-versus-a-copy\n",
      "  cust_filtered_df['birthdate'] = pd.to_datetime(cust_filtered_df['year_birthdate'], format='%Y')\n",
      "<ipython-input-31-65ab92deafe5>:9: SettingWithCopyWarning: \n",
      "A value is trying to be set on a copy of a slice from a DataFrame.\n",
      "Try using .loc[row_indexer,col_indexer] = value instead\n",
      "\n",
      "See the caveats in the documentation: https://pandas.pydata.org/pandas-docs/stable/user_guide/indexing.html#returning-a-view-versus-a-copy\n",
      "  cust_filtered_df['generation'] = pd.cut(cust_filtered_df['birthdate'], bins=generation_bins,\n"
     ]
    }
   ],
   "source": [
    "cust_filtered_df['birthdate'] = pd.to_datetime(cust_filtered_df['year_birthdate'], format='%Y')\n",
    "\n",
    "generation_labels = ['Silent Generation', 'Baby Boomers', 'Gen X', 'Millennials',\n",
    "                     'Gen Z']\n",
    "generation_bins = [pd.to_datetime('1928-01-01'), pd.to_datetime('1946-12-31'),\n",
    "                   pd.to_datetime('1964-12-31'), pd.to_datetime('1976-12-31'),\n",
    "                   pd.to_datetime('1995-12-31'), pd.to_datetime('2010-12-31')]\n",
    "\n",
    "cust_filtered_df['generation'] = pd.cut(cust_filtered_df['birthdate'], bins=generation_bins,\n",
    "                                   labels=generation_labels)\n",
    "\n",
    "cust_filtered_df.head()"
   ]
  },
  {
   "cell_type": "code",
   "execution_count": 32,
   "metadata": {},
   "outputs": [
    {
     "data": {
      "image/png": "[encoded data removed]",
      "text/plain": [
       "<Figure size 432x288 with 1 Axes>"
      ]
     },
     "metadata": {
      "needs_background": "light"
     },
     "output_type": "display_data"
    }
   ],
   "source": [
    "generation_counts = cust_filtered_df['generation'].value_counts()\n",
    "\n",
    "plt.bar(generation_counts.index, generation_counts.values)\n",
    "plt.xlabel('Generation')\n",
    "plt.ylabel('Count')\n",
    "plt.title('Number of People in Each Generation')\n",
    "plt.xticks(rotation=45)\n",
    "\n",
    "# Add text annotations for count numbers\n",
    "for i, count in enumerate(generation_counts.values):\n",
    "    plt.text(i, count + 0.5, str(count), ha='center')\n",
    "\n",
    "plt.show()\n"
   ]
  },
  {
   "cell_type": "code",
   "execution_count": 38,
   "metadata": {},
   "outputs": [
    {
     "name": "stderr",
     "output_type": "stream",
     "text": [
      "<ipython-input-38-785639cbb5d3>:8: SettingWithCopyWarning: \n",
      "A value is trying to be set on a copy of a slice from a DataFrame.\n",
      "Try using .loc[row_indexer,col_indexer] = value instead\n",
      "\n",
      "See the caveats in the documentation: https://pandas.pydata.org/pandas-docs/stable/user_guide/indexing.html#returning-a-view-versus-a-copy\n",
      "  gen_z_df['last_purchase_date'] = pd.to_datetime(gen_z_df['last_purchase_date'], format='%Y-%m-%d')\n"
     ]
    }
   ],
   "source": [
    "# Now I'll seperate Gen-Z and create 2 new frames. \n",
    "# Frame Before: Who has done last shopping 1 week before the campaing\n",
    "# Frame After: Who has done last shopping 1 week after the campaing\n",
    "\n",
    "gen_z_df = cust_filtered_df[cust_filtered_df['generation'] == 'Gen Z']\n",
    "\n",
    "# Convert \"last_purchase_date\" column to datetime\n",
    "gen_z_df['last_purchase_date'] = pd.to_datetime(gen_z_df['last_purchase_date'], format='%Y-%m-%d')\n",
    "\n",
    "# Filter rows for \"before_campaign\" DataFrame\n",
    "before_campaign = gen_z_df[(gen_z_df['last_purchase_date'] >= '2020-08-27') & (gen_z_df['last_purchase_date'] <= '2020-09-03')]\n",
    "\n",
    "# Filter rows for \"after_campaign\" DataFrame\n",
    "after_campaign = gen_z_df[(gen_z_df['last_purchase_date'] >= '2020-09-04') & (gen_z_df['last_purchase_date'] <= '2020-09-10')]"
   ]
  },
  {
   "cell_type": "code",
   "execution_count": 33,
   "metadata": {},
   "outputs": [
    {
     "data": {
      "text/html": [
       "<div>\n",
       "<style scoped>\n",
       "    .dataframe tbody tr th:only-of-type {\n",
       "        vertical-align: middle;\n",
       "    }\n",
       "\n",
       "    .dataframe tbody tr th {\n",
       "        vertical-align: top;\n",
       "    }\n",
       "\n",
       "    .dataframe thead th {\n",
       "        text-align: right;\n",
       "    }\n",
       "</style>\n",
       "<table border=\"1\" class=\"dataframe\">\n",
       "  <thead>\n",
       "    <tr style=\"text-align: right;\">\n",
       "      <th></th>\n",
       "      <th>loyalty_card_num</th>\n",
       "      <th>year_birthdate</th>\n",
       "      <th>gender_id</th>\n",
       "      <th>language_id</th>\n",
       "      <th>email_is_valid</th>\n",
       "      <th>mobile_is_valid</th>\n",
       "      <th>loyalty_card_creation_date</th>\n",
       "      <th>but_idr_business_unit_usual</th>\n",
       "      <th>but_idr_business_unit_creator</th>\n",
       "      <th>cnt_country_code_creator</th>\n",
       "      <th>optin_sport</th>\n",
       "      <th>optin_review</th>\n",
       "      <th>optin_event</th>\n",
       "      <th>last_purchase_date</th>\n",
       "      <th>birthdate</th>\n",
       "      <th>generation</th>\n",
       "    </tr>\n",
       "  </thead>\n",
       "  <tbody>\n",
       "    <tr>\n",
       "      <th>0</th>\n",
       "      <td>879697295889595</td>\n",
       "      <td>1972.0</td>\n",
       "      <td>2.0</td>\n",
       "      <td>FR</td>\n",
       "      <td>True</td>\n",
       "      <td>True</td>\n",
       "      <td>2013-11-28 12:27:00</td>\n",
       "      <td>33640</td>\n",
       "      <td>33640</td>\n",
       "      <td>FR</td>\n",
       "      <td>1</td>\n",
       "      <td>1</td>\n",
       "      <td>1</td>\n",
       "      <td>2021-02-28</td>\n",
       "      <td>1972-01-01</td>\n",
       "      <td>Gen X</td>\n",
       "    </tr>\n",
       "    <tr>\n",
       "      <th>1</th>\n",
       "      <td>333860358022185</td>\n",
       "      <td>1978.0</td>\n",
       "      <td>1.0</td>\n",
       "      <td>FR</td>\n",
       "      <td>True</td>\n",
       "      <td>True</td>\n",
       "      <td>2009-01-13 20:04:00</td>\n",
       "      <td>33785</td>\n",
       "      <td>33962</td>\n",
       "      <td>GP</td>\n",
       "      <td>0</td>\n",
       "      <td>0</td>\n",
       "      <td>0</td>\n",
       "      <td>2021-02-06</td>\n",
       "      <td>1978-01-01</td>\n",
       "      <td>Millennials</td>\n",
       "    </tr>\n",
       "    <tr>\n",
       "      <th>3</th>\n",
       "      <td>842643644772525</td>\n",
       "      <td>1974.0</td>\n",
       "      <td>2.0</td>\n",
       "      <td>FR</td>\n",
       "      <td>True</td>\n",
       "      <td>True</td>\n",
       "      <td>2008-02-14 00:00:00</td>\n",
       "      <td>33624</td>\n",
       "      <td>33624</td>\n",
       "      <td>FR</td>\n",
       "      <td>1</td>\n",
       "      <td>1</td>\n",
       "      <td>1</td>\n",
       "      <td>2020-10-09</td>\n",
       "      <td>1974-01-01</td>\n",
       "      <td>Gen X</td>\n",
       "    </tr>\n",
       "    <tr>\n",
       "      <th>5</th>\n",
       "      <td>240662730725066</td>\n",
       "      <td>1962.0</td>\n",
       "      <td>2.0</td>\n",
       "      <td>FR</td>\n",
       "      <td>True</td>\n",
       "      <td>True</td>\n",
       "      <td>2003-03-01 01:53:00</td>\n",
       "      <td>33677</td>\n",
       "      <td>33704</td>\n",
       "      <td>FR</td>\n",
       "      <td>0</td>\n",
       "      <td>0</td>\n",
       "      <td>0</td>\n",
       "      <td>2020-12-05</td>\n",
       "      <td>1962-01-01</td>\n",
       "      <td>Baby Boomers</td>\n",
       "    </tr>\n",
       "    <tr>\n",
       "      <th>8</th>\n",
       "      <td>538776645520172</td>\n",
       "      <td>1968.0</td>\n",
       "      <td>2.0</td>\n",
       "      <td>FR</td>\n",
       "      <td>True</td>\n",
       "      <td>True</td>\n",
       "      <td>2004-05-04 01:25:00</td>\n",
       "      <td>33704</td>\n",
       "      <td>33704</td>\n",
       "      <td>FR</td>\n",
       "      <td>0</td>\n",
       "      <td>0</td>\n",
       "      <td>0</td>\n",
       "      <td>2021-02-22</td>\n",
       "      <td>1968-01-01</td>\n",
       "      <td>Gen X</td>\n",
       "    </tr>\n",
       "  </tbody>\n",
       "</table>\n",
       "</div>"
      ],
      "text/plain": [
       "   loyalty_card_num  year_birthdate  gender_id language_id email_is_valid  \\\n",
       "0   879697295889595          1972.0        2.0          FR           True   \n",
       "1   333860358022185          1978.0        1.0          FR           True   \n",
       "3   842643644772525          1974.0        2.0          FR           True   \n",
       "5   240662730725066          1962.0        2.0          FR           True   \n",
       "8   538776645520172          1968.0        2.0          FR           True   \n",
       "\n",
       "  mobile_is_valid loyalty_card_creation_date  but_idr_business_unit_usual  \\\n",
       "0            True        2013-11-28 12:27:00                        33640   \n",
       "1            True        2009-01-13 20:04:00                        33785   \n",
       "3            True        2008-02-14 00:00:00                        33624   \n",
       "5            True        2003-03-01 01:53:00                        33677   \n",
       "8            True        2004-05-04 01:25:00                        33704   \n",
       "\n",
       "   but_idr_business_unit_creator cnt_country_code_creator  optin_sport  \\\n",
       "0                          33640                       FR            1   \n",
       "1                          33962                       GP            0   \n",
       "3                          33624                       FR            1   \n",
       "5                          33704                       FR            0   \n",
       "8                          33704                       FR            0   \n",
       "\n",
       "   optin_review  optin_event last_purchase_date  birthdate    generation  \n",
       "0             1            1         2021-02-28 1972-01-01         Gen X  \n",
       "1             0            0         2021-02-06 1978-01-01   Millennials  \n",
       "3             1            1         2020-10-09 1974-01-01         Gen X  \n",
       "5             0            0         2020-12-05 1962-01-01  Baby Boomers  \n",
       "8             0            0         2021-02-22 1968-01-01         Gen X  "
      ]
     },
     "execution_count": 33,
     "metadata": {},
     "output_type": "execute_result"
    }
   ],
   "source": [
    "cust_filtered_df.head()"
   ]
  },
  {
   "cell_type": "code",
   "execution_count": 47,
   "metadata": {},
   "outputs": [
    {
     "name": "stdout",
     "output_type": "stream",
     "text": [
      "There is a significant difference between the groups.\n",
      "Mann-Whitney U statistic: 0.0\n",
      "P-value: 4.42317878953346e-178\n"
     ]
    }
   ],
   "source": [
    "from scipy.stats import mannwhitneyu\n",
    "# Extract the last_purchase_date for the statistical test\n",
    "before_data = before_campaign['last_purchase_date']\n",
    "after_data = after_campaign['last_purchase_date']\n",
    "\n",
    "#Hypothesis Ho:There is a difference, Ha:There is no difference\n",
    "# Perform Mann-Whitney U test\n",
    "statistic, p_value = mannwhitneyu(before_data, after_data, alternative='two-sided')\n",
    "\n",
    "# Check the significance\n",
    "alpha = 0.05\n",
    "if p_value < alpha:\n",
    "    print(\"There is a significant difference between the groups.\")\n",
    "else:\n",
    "    print(\"There is no significant difference between the groups.\")\n",
    "\n",
    "# Print the test statistic and p-value\n",
    "print(\"Mann-Whitney U statistic:\", statistic)\n",
    "print(\"P-value:\", p_value)\n"
   ]
  },
  {
   "cell_type": "code",
   "execution_count": 44,
   "metadata": {},
   "outputs": [
    {
     "name": "stdout",
     "output_type": "stream",
     "text": [
      "The number of last purchase dates increased after the campaign.\n",
      "Number of last purchase dates before the campaign: 479\n",
      "Number of last purchase dates after the campaign: 609\n"
     ]
    }
   ],
   "source": [
    "before_count = before_campaign['loyalty_card_num'].nunique()\n",
    "after_count = after_campaign['loyalty_card_num'].nunique()\n",
    "\n",
    "# Compare the counts\n",
    "if after_count > before_count:\n",
    "    print(\"The number of last purchase dates increased after the campaign.\")\n",
    "elif after_count < before_count:\n",
    "    print(\"The number of last purchase dates decreased after the campaign.\")\n",
    "else:\n",
    "    print(\"The number of last purchase dates remained the same after the campaign.\")\n",
    "\n",
    "# Print the counts\n",
    "print(\"Number of last purchase dates before the campaign:\", before_count)\n",
    "print(\"Number of last purchase dates after the campaign:\", after_count)"
   ]
  },
  {
   "cell_type": "code",
   "execution_count": 48,
   "metadata": {},
   "outputs": [
    {
     "name": "stdout",
     "output_type": "stream",
     "text": [
      "Sales Increase Ratio: 27.14%\n"
     ]
    }
   ],
   "source": [
    "# Calculate the percentage increase\n",
    "sales_increase_ratio = (after_count - before_count) / before_count * 100\n",
    "\n",
    "# Print the sales increase ratio\n",
    "print(\"Sales Increase Ratio: {:.2f}%\".format(sales_increase_ratio))"
   ]
  },
  {
   "cell_type": "markdown",
   "metadata": {},
   "source": [
    "#### A.2) If there had been significant change in number of Gen-Z customers?\n",
    "##### No, eventhough number of Gen-Z customers increased from 40 to 60, the change was statistically non-significant.  "
   ]
  },
  {
   "cell_type": "code",
   "execution_count": 49,
   "metadata": {},
   "outputs": [
    {
     "name": "stderr",
     "output_type": "stream",
     "text": [
      "<ipython-input-49-05593171a7c3>:7: SettingWithCopyWarning: \n",
      "A value is trying to be set on a copy of a slice from a DataFrame.\n",
      "Try using .loc[row_indexer,col_indexer] = value instead\n",
      "\n",
      "See the caveats in the documentation: https://pandas.pydata.org/pandas-docs/stable/user_guide/indexing.html#returning-a-view-versus-a-copy\n",
      "  gen_z_df['loyalty_card_creation_date'] = pd.to_datetime(gen_z_df['loyalty_card_creation_date'], format='%Y-%m-%d')\n"
     ]
    }
   ],
   "source": [
    "# Now I'll use loyalty_card_creation_date seperate Gen-Z and create 2 new frames. \n",
    "# Frame Before: Who was already a member\n",
    "# Frame After: Who became a member after campaign \n",
    "\n",
    "#gen_z_df = cust_filtered_df[cust_filtered_df['generation'] == 'Gen Z']\n",
    "\n",
    "#gen_z_df['loyalty_card_creation_date'] = pd.to_datetime(gen_z_df['loyalty_card_creation_date'], format='%Y-%m-%d')\n",
    "\n",
    "# Create \"before_customer\" and \"after_customer\" groups\n",
    "#before_customer = gen_z_df[gen_z_df['loyalty_card_creation_date'] <= '2020-09-03']\n",
    "#after_customer = gen_z_df[gen_z_df['loyalty_card_creation_date'] >= '2020-09-04']"
   ]
  },
  {
   "cell_type": "code",
   "execution_count": 54,
   "metadata": {},
   "outputs": [
    {
     "name": "stdout",
     "output_type": "stream",
     "text": [
      "Number of people before the campaign: 4318\n",
      "Number of people after the campaign: 86\n"
     ]
    }
   ],
   "source": [
    "print(\"Number of people before the campaign:\", before_customer.shape[0])\n",
    "print(\"Number of people after the campaign:\", after_customer.shape[0])\n",
    "# before custome ris 4318 and after is 86. before group contains a longer data interval. \n",
    "# So I'll limit everything to last one week before and after "
   ]
  },
  {
   "cell_type": "code",
   "execution_count": 59,
   "metadata": {},
   "outputs": [
    {
     "name": "stderr",
     "output_type": "stream",
     "text": [
      "<ipython-input-59-74d0df3e832b>:2: SettingWithCopyWarning: \n",
      "A value is trying to be set on a copy of a slice from a DataFrame.\n",
      "Try using .loc[row_indexer,col_indexer] = value instead\n",
      "\n",
      "See the caveats in the documentation: https://pandas.pydata.org/pandas-docs/stable/user_guide/indexing.html#returning-a-view-versus-a-copy\n",
      "  gen_z_df['loyalty_card_creation_date'] = pd.to_datetime(gen_z_df['loyalty_card_creation_date'], format='%Y-%m-%d')\n"
     ]
    }
   ],
   "source": [
    "# Convert \"loyalty_card_creation_date\" column to datetime\n",
    "gen_z_df['loyalty_card_creation_date'] = pd.to_datetime(gen_z_df['loyalty_card_creation_date'], format='%Y-%m-%d')\n",
    "\n",
    "# Create \"before_customer\" and \"after_customer\" groups\n",
    "before_loyal_customer = gen_z_df[(gen_z_df['loyalty_card_creation_date'] >= '2020-08-27') & (gen_z_df['loyalty_card_creation_date'] <= '2020-09-03')]\n",
    "after_loyal_customer = gen_z_df[(gen_z_df['loyalty_card_creation_date'] >= '2020-09-04') & (gen_z_df['loyalty_card_creation_date'] <= '2020-09-10')]\n"
   ]
  },
  {
   "cell_type": "code",
   "execution_count": 60,
   "metadata": {},
   "outputs": [
    {
     "name": "stdout",
     "output_type": "stream",
     "text": [
      "Number of people before the campaign: 40\n",
      "Number of people after the campaign: 60\n"
     ]
    }
   ],
   "source": [
    "print(\"Number of people before the campaign:\", before_loyal_customer.shape[0])\n",
    "print(\"Number of people after the campaign:\", after_loyal_customer.shape[0])\n",
    "\n",
    "# groups are more balanced now. So we can do the analysis. "
   ]
  },
  {
   "cell_type": "code",
   "execution_count": 62,
   "metadata": {},
   "outputs": [
    {
     "name": "stdout",
     "output_type": "stream",
     "text": [
      "There is no significant difference in the number of customers between the groups.\n",
      "Chi-square statistic: 0.0\n",
      "P-value: 1.0\n"
     ]
    }
   ],
   "source": [
    "from scipy.stats import chi2_contingency\n",
    "\n",
    "# Get the counts of customers in each group\n",
    "before_loyal_customer = before_loyal_customer.shape[0]\n",
    "after_loyal_customer = after_loyal_customer.shape[0]\n",
    "\n",
    "# Create a contingency table\n",
    "contingency_table = [[before_loyal_customer, after_loyal_customer]]\n",
    "\n",
    "# Perform chi-square test\n",
    "chi2, p_value, _, _ = chi2_contingency(contingency_table)\n",
    "\n",
    "# Check the significance\n",
    "alpha = 0.05\n",
    "if p_value < alpha:\n",
    "    print(\"There is a significant difference in the number of customers between the groups.\")\n",
    "else:\n",
    "    print(\"There is no significant difference in the number of customers between the groups.\")\n",
    "\n",
    "# Print the chi-square statistic and p-value\n",
    "print(\"Chi-square statistic:\", chi2)\n",
    "print(\"P-value:\", p_value)\n"
   ]
  },
  {
   "cell_type": "markdown",
   "metadata": {},
   "source": [
    "#### A.3) If there had been a significant increase product reviews among general audience? \n",
    "#### There has been no significant change in average rating of the product and in number of product reviews. However number of unique visitors increased 23% in total. "
   ]
  },
  {
   "cell_type": "code",
   "execution_count": 70,
   "metadata": {},
   "outputs": [],
   "source": [
    "#For this part of the analysis I'll check three parts. \n",
    "#average rating of the product\n",
    "#number of product reviews\n",
    "#number of unique visitors"
   ]
  },
  {
   "cell_type": "code",
   "execution_count": 71,
   "metadata": {},
   "outputs": [
    {
     "data": {
      "text/html": [
       "<div>\n",
       "<style scoped>\n",
       "    .dataframe tbody tr th:only-of-type {\n",
       "        vertical-align: middle;\n",
       "    }\n",
       "\n",
       "    .dataframe tbody tr th {\n",
       "        vertical-align: top;\n",
       "    }\n",
       "\n",
       "    .dataframe thead th {\n",
       "        text-align: right;\n",
       "    }\n",
       "</style>\n",
       "<table border=\"1\" class=\"dataframe\">\n",
       "  <thead>\n",
       "    <tr style=\"text-align: right;\">\n",
       "      <th></th>\n",
       "      <th>hit_date</th>\n",
       "      <th>url_referer_host</th>\n",
       "      <th>product_id_model</th>\n",
       "      <th>product_instock</th>\n",
       "      <th>device_type</th>\n",
       "      <th>avg_note</th>\n",
       "      <th>nb_reviews</th>\n",
       "      <th>tot_visitors</th>\n",
       "    </tr>\n",
       "  </thead>\n",
       "  <tbody>\n",
       "    <tr>\n",
       "      <th>0</th>\n",
       "      <td>2020-08-27</td>\n",
       "      <td>www.decathlon.fr</td>\n",
       "      <td>2859688.0</td>\n",
       "      <td>available</td>\n",
       "      <td>mobile</td>\n",
       "      <td>4.46</td>\n",
       "      <td>112.0</td>\n",
       "      <td>21</td>\n",
       "    </tr>\n",
       "    <tr>\n",
       "      <th>1</th>\n",
       "      <td>2020-08-25</td>\n",
       "      <td>www.decathlon.fr</td>\n",
       "      <td>7054974.0</td>\n",
       "      <td>available</td>\n",
       "      <td>tablet</td>\n",
       "      <td>4.44</td>\n",
       "      <td>1418.0</td>\n",
       "      <td>1</td>\n",
       "    </tr>\n",
       "    <tr>\n",
       "      <th>2</th>\n",
       "      <td>2020-09-03</td>\n",
       "      <td>www.decathlon.fr</td>\n",
       "      <td>5920332.0</td>\n",
       "      <td>available</td>\n",
       "      <td>mobile</td>\n",
       "      <td>4.59</td>\n",
       "      <td>113.0</td>\n",
       "      <td>14</td>\n",
       "    </tr>\n",
       "    <tr>\n",
       "      <th>3</th>\n",
       "      <td>2020-09-06</td>\n",
       "      <td>www.decathlon.fr</td>\n",
       "      <td>5324312.0</td>\n",
       "      <td>available</td>\n",
       "      <td>desktop</td>\n",
       "      <td>4.54</td>\n",
       "      <td>507.0</td>\n",
       "      <td>9</td>\n",
       "    </tr>\n",
       "    <tr>\n",
       "      <th>4</th>\n",
       "      <td>2020-08-29</td>\n",
       "      <td>www.decathlon.fr</td>\n",
       "      <td>8500019.0</td>\n",
       "      <td>partially</td>\n",
       "      <td>mobile</td>\n",
       "      <td>4.48</td>\n",
       "      <td>113.0</td>\n",
       "      <td>15</td>\n",
       "    </tr>\n",
       "  </tbody>\n",
       "</table>\n",
       "</div>"
      ],
      "text/plain": [
       "     hit_date  url_referer_host  product_id_model product_instock device_type  \\\n",
       "0  2020-08-27  www.decathlon.fr         2859688.0       available      mobile   \n",
       "1  2020-08-25  www.decathlon.fr         7054974.0       available      tablet   \n",
       "2  2020-09-03  www.decathlon.fr         5920332.0       available      mobile   \n",
       "3  2020-09-06  www.decathlon.fr         5324312.0       available     desktop   \n",
       "4  2020-08-29  www.decathlon.fr         8500019.0       partially      mobile   \n",
       "\n",
       "   avg_note  nb_reviews  tot_visitors  \n",
       "0      4.46       112.0            21  \n",
       "1      4.44      1418.0             1  \n",
       "2      4.59       113.0            14  \n",
       "3      4.54       507.0             9  \n",
       "4      4.48       113.0            15  "
      ]
     },
     "execution_count": 71,
     "metadata": {},
     "output_type": "execute_result"
    }
   ],
   "source": [
    "flow_audience_df.head()"
   ]
  },
  {
   "cell_type": "code",
   "execution_count": 73,
   "metadata": {},
   "outputs": [
    {
     "name": "stdout",
     "output_type": "stream",
     "text": [
      "Number of rows: 51536\n",
      "Number of columns: 8\n"
     ]
    }
   ],
   "source": [
    "#Number of rows\n",
    "print(\"Number of rows:\",flow_audience_df.shape[0])\n",
    "\n",
    "#Number of columns\n",
    "print(\"Number of columns:\",flow_audience_df.shape[1])"
   ]
  },
  {
   "cell_type": "code",
   "execution_count": 74,
   "metadata": {},
   "outputs": [],
   "source": [
    "# Convert \"hit_date\" column to datetime type\n",
    "flow_audience_df['hit_date'] = pd.to_datetime(flow_audience_df['hit_date'])\n",
    "\n",
    "# Define the before and after date ranges\n",
    "before_start_date = pd.to_datetime('2020-08-27')\n",
    "before_end_date = pd.to_datetime('2020-09-03')\n",
    "after_start_date = pd.to_datetime('2020-09-04')\n",
    "after_end_date = pd.to_datetime('2020-09-10')\n",
    "\n",
    "# Filter the dataframe for the \"before\" dates\n",
    "before_df = flow_audience_df[(flow_audience_df['hit_date'] >= before_start_date) & (flow_audience_df['hit_date'] <= before_end_date)]\n",
    "\n",
    "# Filter the dataframe for the \"after\" dates\n",
    "after_df = flow_audience_df[(flow_audience_df['hit_date'] >= after_start_date) & (flow_audience_df['hit_date'] <= after_end_date)]\n"
   ]
  },
  {
   "cell_type": "code",
   "execution_count": 76,
   "metadata": {},
   "outputs": [
    {
     "name": "stdout",
     "output_type": "stream",
     "text": [
      "There is no significant difference in the values of avg_note between the groups.\n",
      "Mann-Whitney U statistic: 168575072.0\n",
      "P-value: 0.8145404857058924\n"
     ]
    }
   ],
   "source": [
    "from scipy.stats import mannwhitneyu\n",
    "\n",
    "# Perform Mann-Whitney U test for avg_note\n",
    "statistic, p_value = mannwhitneyu(before_df['avg_note'], after_df['avg_note'], alternative='two-sided')\n",
    "\n",
    "# Set the significance level\n",
    "alpha = 0.05\n",
    "\n",
    "# Check the significance\n",
    "if p_value < alpha:\n",
    "    print(\"There is a significant difference in the values of avg_note between the groups.\")\n",
    "else:\n",
    "    print(\"There is no significant difference in the values of avg_note between the groups.\")\n",
    "\n",
    "# Print the test statistic and p-value\n",
    "print(\"Mann-Whitney U statistic:\", statistic)\n",
    "print(\"P-value:\", p_value)\n"
   ]
  },
  {
   "cell_type": "code",
   "execution_count": 77,
   "metadata": {},
   "outputs": [
    {
     "name": "stdout",
     "output_type": "stream",
     "text": [
      "There is no significant difference in the values of nb_reviews between the groups.\n",
      "Mann-Whitney U statistic: 169133546.5\n",
      "P-value: 0.432802973534397\n"
     ]
    }
   ],
   "source": [
    "# Perform Mann-Whitney U test for avg_note\n",
    "statistic, p_value = mannwhitneyu(before_df['nb_reviews'], after_df['nb_reviews'], alternative='two-sided')\n",
    "\n",
    "# Set the significance level\n",
    "alpha = 0.05\n",
    "\n",
    "# Check the significance\n",
    "if p_value < alpha:\n",
    "    print(\"There is a significant difference in the values of nb_reviews between the groups.\")\n",
    "else:\n",
    "    print(\"There is no significant difference in the values of nb_reviews between the groups.\")\n",
    "\n",
    "# Print the test statistic and p-value\n",
    "print(\"Mann-Whitney U statistic:\", statistic)\n",
    "print(\"P-value:\", p_value)"
   ]
  },
  {
   "cell_type": "code",
   "execution_count": 78,
   "metadata": {},
   "outputs": [
    {
     "name": "stdout",
     "output_type": "stream",
     "text": [
      "There is a significant difference in the values of tot_visitors between the groups.\n",
      "Mann-Whitney U statistic: 166118705.5\n",
      "P-value: 0.027682998874315645\n"
     ]
    }
   ],
   "source": [
    "# Perform Mann-Whitney U test for avg_note\n",
    "statistic, p_value = mannwhitneyu(before_df['tot_visitors'], after_df['tot_visitors'], alternative='two-sided')\n",
    "\n",
    "# Set the significance level\n",
    "alpha = 0.05\n",
    "\n",
    "# Check the significance\n",
    "if p_value < alpha:\n",
    "    print(\"There is a significant difference in the values of tot_visitors between the groups.\")\n",
    "else:\n",
    "    print(\"There is no significant difference in the values of tot_visitors between the groups.\")\n",
    "\n",
    "# Print the test statistic and p-value\n",
    "print(\"Mann-Whitney U statistic:\", statistic)\n",
    "print(\"P-value:\", p_value)"
   ]
  },
  {
   "cell_type": "code",
   "execution_count": 79,
   "metadata": {},
   "outputs": [
    {
     "name": "stdout",
     "output_type": "stream",
     "text": [
      "The tot_visitors increased by: 22.92691360844044 %\n"
     ]
    }
   ],
   "source": [
    "# Calculate the mean of avg_note in before_df\n",
    "mean_before = before_df['tot_visitors'].mean()\n",
    "\n",
    "# Calculate the mean of avg_note in after_df\n",
    "mean_after = after_df['tot_visitors'].mean()\n",
    "\n",
    "# Calculate the relative change as a ratio\n",
    "relative_change = (mean_after - mean_before) / mean_before\n",
    "\n",
    "# Convert the relative change to a percentage\n",
    "percentage_change = relative_change * 100\n",
    "\n",
    "# Print the percentage change\n",
    "print(\"The tot_visitors increased by:\", percentage_change, \"%\")\n"
   ]
  },
  {
   "cell_type": "markdown",
   "metadata": {},
   "source": [
    "## Part B: Sales & Profit"
   ]
  },
  {
   "cell_type": "markdown",
   "metadata": {},
   "source": [
    "#### B.1) If the sales by quantity in general population increased or not? \n",
    "##### For all customer groups sales has changed significantly, decreasing 4%\n",
    "##### For Gen-Z sales has changed significantly, decreasing 6%"
   ]
  },
  {
   "cell_type": "code",
   "execution_count": 85,
   "metadata": {},
   "outputs": [
    {
     "data": {
      "text/html": [
       "<div>\n",
       "<style scoped>\n",
       "    .dataframe tbody tr th:only-of-type {\n",
       "        vertical-align: middle;\n",
       "    }\n",
       "\n",
       "    .dataframe tbody tr th {\n",
       "        vertical-align: top;\n",
       "    }\n",
       "\n",
       "    .dataframe thead th {\n",
       "        text-align: right;\n",
       "    }\n",
       "</style>\n",
       "<table border=\"1\" class=\"dataframe\">\n",
       "  <thead>\n",
       "    <tr style=\"text-align: right;\">\n",
       "      <th></th>\n",
       "      <th>the_transaction_id</th>\n",
       "      <th>tdt_date_to_returned</th>\n",
       "      <th>the_date_transaction</th>\n",
       "      <th>the_date_authorized</th>\n",
       "      <th>sku_idr_sku</th>\n",
       "      <th>but_idr_business_unit</th>\n",
       "      <th>ctm_customer_id</th>\n",
       "      <th>ctm_zip_code</th>\n",
       "      <th>the_to_type</th>\n",
       "      <th>the_transaction_status</th>\n",
       "      <th>tdt_type_detail</th>\n",
       "      <th>f_to_tax_in</th>\n",
       "      <th>f_qty_item</th>\n",
       "    </tr>\n",
       "  </thead>\n",
       "  <tbody>\n",
       "    <tr>\n",
       "      <th>0</th>\n",
       "      <td>7-214-214-20200827180547-5-3116</td>\n",
       "      <td>NaN</td>\n",
       "      <td>2020-08-27 18:05:47</td>\n",
       "      <td>2020-08-27 18:05:47</td>\n",
       "      <td>7218584</td>\n",
       "      <td>33780</td>\n",
       "      <td>NaN</td>\n",
       "      <td>38</td>\n",
       "      <td>offline</td>\n",
       "      <td>finished</td>\n",
       "      <td>sale</td>\n",
       "      <td>20.0</td>\n",
       "      <td>1</td>\n",
       "    </tr>\n",
       "    <tr>\n",
       "      <th>1</th>\n",
       "      <td>7-62-62-20200827180621-9-5947</td>\n",
       "      <td>NaN</td>\n",
       "      <td>2020-08-27 18:06:21</td>\n",
       "      <td>2020-08-27 18:06:21</td>\n",
       "      <td>7218097</td>\n",
       "      <td>33640</td>\n",
       "      <td>NaN</td>\n",
       "      <td>NaN</td>\n",
       "      <td>offline</td>\n",
       "      <td>finished</td>\n",
       "      <td>sale</td>\n",
       "      <td>5.0</td>\n",
       "      <td>1</td>\n",
       "    </tr>\n",
       "    <tr>\n",
       "      <th>2</th>\n",
       "      <td>7-553-553-20200827180631-7-3156</td>\n",
       "      <td>NaN</td>\n",
       "      <td>2020-08-27 18:06:31</td>\n",
       "      <td>2020-08-27 18:06:31</td>\n",
       "      <td>7394559</td>\n",
       "      <td>34110</td>\n",
       "      <td>NaN</td>\n",
       "      <td>NaN</td>\n",
       "      <td>offline</td>\n",
       "      <td>finished</td>\n",
       "      <td>sale</td>\n",
       "      <td>70.0</td>\n",
       "      <td>1</td>\n",
       "    </tr>\n",
       "    <tr>\n",
       "      <th>3</th>\n",
       "      <td>7-276-276-20200827180648-7-6711</td>\n",
       "      <td>NaN</td>\n",
       "      <td>2020-08-27 18:06:48</td>\n",
       "      <td>2020-08-27 18:06:48</td>\n",
       "      <td>2137874</td>\n",
       "      <td>33839</td>\n",
       "      <td>4.367465e+14</td>\n",
       "      <td>NaN</td>\n",
       "      <td>offline</td>\n",
       "      <td>finished</td>\n",
       "      <td>sale</td>\n",
       "      <td>23.0</td>\n",
       "      <td>1</td>\n",
       "    </tr>\n",
       "    <tr>\n",
       "      <th>4</th>\n",
       "      <td>7-189-189-20200827180710-36-276</td>\n",
       "      <td>NaN</td>\n",
       "      <td>2020-08-27 18:07:10</td>\n",
       "      <td>2020-08-27 18:07:10</td>\n",
       "      <td>516174</td>\n",
       "      <td>33758</td>\n",
       "      <td>NaN</td>\n",
       "      <td>75</td>\n",
       "      <td>offline</td>\n",
       "      <td>finished</td>\n",
       "      <td>sale</td>\n",
       "      <td>5.0</td>\n",
       "      <td>1</td>\n",
       "    </tr>\n",
       "  </tbody>\n",
       "</table>\n",
       "</div>"
      ],
      "text/plain": [
       "                the_transaction_id tdt_date_to_returned the_date_transaction  \\\n",
       "0  7-214-214-20200827180547-5-3116                  NaN  2020-08-27 18:05:47   \n",
       "1    7-62-62-20200827180621-9-5947                  NaN  2020-08-27 18:06:21   \n",
       "2  7-553-553-20200827180631-7-3156                  NaN  2020-08-27 18:06:31   \n",
       "3  7-276-276-20200827180648-7-6711                  NaN  2020-08-27 18:06:48   \n",
       "4  7-189-189-20200827180710-36-276                  NaN  2020-08-27 18:07:10   \n",
       "\n",
       "   the_date_authorized  sku_idr_sku  but_idr_business_unit  ctm_customer_id  \\\n",
       "0  2020-08-27 18:05:47      7218584                  33780              NaN   \n",
       "1  2020-08-27 18:06:21      7218097                  33640              NaN   \n",
       "2  2020-08-27 18:06:31      7394559                  34110              NaN   \n",
       "3  2020-08-27 18:06:48      2137874                  33839     4.367465e+14   \n",
       "4  2020-08-27 18:07:10       516174                  33758              NaN   \n",
       "\n",
       "  ctm_zip_code the_to_type the_transaction_status tdt_type_detail  \\\n",
       "0           38     offline               finished            sale   \n",
       "1          NaN     offline               finished            sale   \n",
       "2          NaN     offline               finished            sale   \n",
       "3          NaN     offline               finished            sale   \n",
       "4           75     offline               finished            sale   \n",
       "\n",
       "   f_to_tax_in  f_qty_item  \n",
       "0         20.0           1  \n",
       "1          5.0           1  \n",
       "2         70.0           1  \n",
       "3         23.0           1  \n",
       "4          5.0           1  "
      ]
     },
     "execution_count": 85,
     "metadata": {},
     "output_type": "execute_result"
    }
   ],
   "source": [
    "# For this part of the analysis I'll use transaction data in dividing it into two again as before and after. \n",
    "transaction_df.head()"
   ]
  },
  {
   "cell_type": "code",
   "execution_count": 86,
   "metadata": {},
   "outputs": [],
   "source": [
    "#Drop the_date_authorized, ctm_zip_code for pocessing power. \n",
    "transactions_df = transaction_df\n",
    "\n",
    "# Drop the 'the_date_authorized' and 'ctm_zip_code' columns permanently\n",
    "transactions_df.drop(['the_date_authorized', 'ctm_zip_code'], axis=1, inplace=True)"
   ]
  },
  {
   "cell_type": "code",
   "execution_count": 87,
   "metadata": {},
   "outputs": [],
   "source": [
    "# Transform the_date_transaction. \n",
    "# Convert 'the_date_transaction' column to datetime data type\n",
    "transactions_df['the_date_transaction'] = pd.to_datetime(transactions_df['the_date_transaction'])\n",
    "\n",
    "# Extract only the date part and overwrite the column\n",
    "transactions_df['the_date_transaction'] = transactions_df['the_date_transaction'].dt.date"
   ]
  },
  {
   "cell_type": "code",
   "execution_count": 89,
   "metadata": {},
   "outputs": [],
   "source": [
    "# Change tdt_date_to_returned to returned or not. \n",
    "# Replace NaN values with \"kept\" and non-NaN values with \"returned\" in 'tdt_date_to_returned' column\n",
    "transactions_df['tdt_date_to_returned'].fillna('kept', inplace=True)\n",
    "transactions_df['tdt_date_to_returned'] = transactions_df['tdt_date_to_returned'].replace({pd.NaT: 'returned'})"
   ]
  },
  {
   "cell_type": "code",
   "execution_count": 90,
   "metadata": {},
   "outputs": [
    {
     "data": {
      "text/html": [
       "<div>\n",
       "<style scoped>\n",
       "    .dataframe tbody tr th:only-of-type {\n",
       "        vertical-align: middle;\n",
       "    }\n",
       "\n",
       "    .dataframe tbody tr th {\n",
       "        vertical-align: top;\n",
       "    }\n",
       "\n",
       "    .dataframe thead th {\n",
       "        text-align: right;\n",
       "    }\n",
       "</style>\n",
       "<table border=\"1\" class=\"dataframe\">\n",
       "  <thead>\n",
       "    <tr style=\"text-align: right;\">\n",
       "      <th></th>\n",
       "      <th>the_transaction_id</th>\n",
       "      <th>tdt_date_to_returned</th>\n",
       "      <th>the_date_transaction</th>\n",
       "      <th>sku_idr_sku</th>\n",
       "      <th>but_idr_business_unit</th>\n",
       "      <th>ctm_customer_id</th>\n",
       "      <th>the_to_type</th>\n",
       "      <th>the_transaction_status</th>\n",
       "      <th>tdt_type_detail</th>\n",
       "      <th>f_to_tax_in</th>\n",
       "      <th>f_qty_item</th>\n",
       "    </tr>\n",
       "  </thead>\n",
       "  <tbody>\n",
       "    <tr>\n",
       "      <th>0</th>\n",
       "      <td>7-214-214-20200827180547-5-3116</td>\n",
       "      <td>kept</td>\n",
       "      <td>2020-08-27</td>\n",
       "      <td>7218584</td>\n",
       "      <td>33780</td>\n",
       "      <td>NaN</td>\n",
       "      <td>offline</td>\n",
       "      <td>finished</td>\n",
       "      <td>sale</td>\n",
       "      <td>20.0</td>\n",
       "      <td>1</td>\n",
       "    </tr>\n",
       "    <tr>\n",
       "      <th>1</th>\n",
       "      <td>7-62-62-20200827180621-9-5947</td>\n",
       "      <td>kept</td>\n",
       "      <td>2020-08-27</td>\n",
       "      <td>7218097</td>\n",
       "      <td>33640</td>\n",
       "      <td>NaN</td>\n",
       "      <td>offline</td>\n",
       "      <td>finished</td>\n",
       "      <td>sale</td>\n",
       "      <td>5.0</td>\n",
       "      <td>1</td>\n",
       "    </tr>\n",
       "    <tr>\n",
       "      <th>2</th>\n",
       "      <td>7-553-553-20200827180631-7-3156</td>\n",
       "      <td>kept</td>\n",
       "      <td>2020-08-27</td>\n",
       "      <td>7394559</td>\n",
       "      <td>34110</td>\n",
       "      <td>NaN</td>\n",
       "      <td>offline</td>\n",
       "      <td>finished</td>\n",
       "      <td>sale</td>\n",
       "      <td>70.0</td>\n",
       "      <td>1</td>\n",
       "    </tr>\n",
       "    <tr>\n",
       "      <th>3</th>\n",
       "      <td>7-276-276-20200827180648-7-6711</td>\n",
       "      <td>kept</td>\n",
       "      <td>2020-08-27</td>\n",
       "      <td>2137874</td>\n",
       "      <td>33839</td>\n",
       "      <td>4.367465e+14</td>\n",
       "      <td>offline</td>\n",
       "      <td>finished</td>\n",
       "      <td>sale</td>\n",
       "      <td>23.0</td>\n",
       "      <td>1</td>\n",
       "    </tr>\n",
       "    <tr>\n",
       "      <th>4</th>\n",
       "      <td>7-189-189-20200827180710-36-276</td>\n",
       "      <td>kept</td>\n",
       "      <td>2020-08-27</td>\n",
       "      <td>516174</td>\n",
       "      <td>33758</td>\n",
       "      <td>NaN</td>\n",
       "      <td>offline</td>\n",
       "      <td>finished</td>\n",
       "      <td>sale</td>\n",
       "      <td>5.0</td>\n",
       "      <td>1</td>\n",
       "    </tr>\n",
       "  </tbody>\n",
       "</table>\n",
       "</div>"
      ],
      "text/plain": [
       "                the_transaction_id tdt_date_to_returned the_date_transaction  \\\n",
       "0  7-214-214-20200827180547-5-3116                 kept           2020-08-27   \n",
       "1    7-62-62-20200827180621-9-5947                 kept           2020-08-27   \n",
       "2  7-553-553-20200827180631-7-3156                 kept           2020-08-27   \n",
       "3  7-276-276-20200827180648-7-6711                 kept           2020-08-27   \n",
       "4  7-189-189-20200827180710-36-276                 kept           2020-08-27   \n",
       "\n",
       "   sku_idr_sku  but_idr_business_unit  ctm_customer_id the_to_type  \\\n",
       "0      7218584                  33780              NaN     offline   \n",
       "1      7218097                  33640              NaN     offline   \n",
       "2      7394559                  34110              NaN     offline   \n",
       "3      2137874                  33839     4.367465e+14     offline   \n",
       "4       516174                  33758              NaN     offline   \n",
       "\n",
       "  the_transaction_status tdt_type_detail  f_to_tax_in  f_qty_item  \n",
       "0               finished            sale         20.0           1  \n",
       "1               finished            sale          5.0           1  \n",
       "2               finished            sale         70.0           1  \n",
       "3               finished            sale         23.0           1  \n",
       "4               finished            sale          5.0           1  "
      ]
     },
     "execution_count": 90,
     "metadata": {},
     "output_type": "execute_result"
    }
   ],
   "source": [
    "transactions_df.head()"
   ]
  },
  {
   "cell_type": "code",
   "execution_count": 91,
   "metadata": {},
   "outputs": [],
   "source": [
    "# Check all the sales between before and after dates\n",
    "# Create the 'before_df' dataframe with dates between 27 August 2020 and 3 September 2020\n",
    "before_start_date = pd.to_datetime('2020-08-27')\n",
    "before_end_date = pd.to_datetime('2020-09-03')\n",
    "before_df = transactions_df[(transactions_df['the_date_transaction'] >= before_start_date) & (transactions_df['the_date_transaction'] <= before_end_date)]\n",
    "\n",
    "# Create the 'after_df' dataframe with dates between 4 September 2020 and 10 September 2020\n",
    "after_start_date = pd.to_datetime('2020-09-04')\n",
    "after_end_date = pd.to_datetime('2020-09-10')\n",
    "after_df = transactions_df[(transactions_df['the_date_transaction'] >= after_start_date) & (transactions_df['the_date_transaction'] <= after_end_date)]"
   ]
  },
  {
   "cell_type": "code",
   "execution_count": 94,
   "metadata": {},
   "outputs": [
    {
     "data": {
      "image/png": "[encoded data removed]",
      "text/plain": [
       "<Figure size 432x288 with 1 Axes>"
      ]
     },
     "metadata": {
      "needs_background": "light"
     },
     "output_type": "display_data"
    }
   ],
   "source": [
    "import matplotlib.pyplot as plt\n",
    "\n",
    "# Plot the histograms for 'before_df' and 'after_df'\n",
    "plt.hist(before_df['f_qty_item'], bins=10, alpha=0.5, label='Before')\n",
    "plt.hist(after_df['f_qty_item'], bins=10, alpha=0.5, label='After')\n",
    "plt.xlabel('f_qty_item')\n",
    "plt.ylabel('Frequency')\n",
    "plt.title('Distribution of f_qty_item')\n",
    "plt.legend()\n",
    "plt.show()\n"
   ]
  },
  {
   "cell_type": "code",
   "execution_count": 95,
   "metadata": {},
   "outputs": [
    {
     "name": "stdout",
     "output_type": "stream",
     "text": [
      "The data does not follow a normal distribution.\n"
     ]
    },
    {
     "name": "stderr",
     "output_type": "stream",
     "text": [
      "C:\\Users\\Irem Umut Yasik\\Anaconda3\\lib\\site-packages\\scipy\\stats\\morestats.py:1681: UserWarning: p-value may not be accurate for N > 5000.\n",
      "  warnings.warn(\"p-value may not be accurate for N > 5000.\")\n"
     ]
    }
   ],
   "source": [
    "from scipy.stats import shapiro\n",
    "\n",
    "# Assuming data is your array or list of values\n",
    "stat, p_value = shapiro(before_df['f_qty_item'])\n",
    "\n",
    "# Check the significance\n",
    "alpha = 0.05\n",
    "if p_value < alpha:\n",
    "    print(\"The data does not follow a normal distribution.\")\n",
    "else:\n",
    "    print(\"The data follows a normal distribution.\")"
   ]
  },
  {
   "cell_type": "code",
   "execution_count": 96,
   "metadata": {},
   "outputs": [
    {
     "name": "stdout",
     "output_type": "stream",
     "text": [
      "The data does not follow a normal distribution.\n"
     ]
    }
   ],
   "source": [
    "# Assuming data is your array or list of values\n",
    "stat, p_value = shapiro(after_df['f_qty_item'])\n",
    "\n",
    "# Check the significance\n",
    "alpha = 0.05\n",
    "if p_value < alpha:\n",
    "    print(\"The data does not follow a normal distribution.\")\n",
    "else:\n",
    "    print(\"The data follows a normal distribution.\")"
   ]
  },
  {
   "cell_type": "code",
   "execution_count": 97,
   "metadata": {},
   "outputs": [
    {
     "name": "stdout",
     "output_type": "stream",
     "text": [
      "There is a significant difference between the groups.\n",
      "Mann-Whitney U statistic: 325569295425.0\n",
      "P-value: 2.876987785265308e-20\n"
     ]
    }
   ],
   "source": [
    "# Perform Mann-Whitney U test\n",
    "statistic, p_value = mannwhitneyu(before_df['f_qty_item'], after_df['f_qty_item'], alternative='two-sided')\n",
    "\n",
    "# Check the significance\n",
    "alpha = 0.05\n",
    "if p_value < alpha:\n",
    "    print(\"There is a significant difference between the groups.\")\n",
    "else:\n",
    "    print(\"There is no significant difference between the groups.\")\n",
    "\n",
    "# Print the test statistic and p-value\n",
    "print(\"Mann-Whitney U statistic:\", statistic)\n",
    "print(\"P-value:\", p_value)"
   ]
  },
  {
   "cell_type": "code",
   "execution_count": 98,
   "metadata": {},
   "outputs": [
    {
     "name": "stdout",
     "output_type": "stream",
     "text": [
      "The quantity of item bought increased by: -0.4786741298897901 %\n"
     ]
    }
   ],
   "source": [
    "# Calculate the mean of avg_note in before_df\n",
    "mean_before = before_df['f_qty_item'].mean()\n",
    "\n",
    "# Calculate the mean of avg_note in after_df\n",
    "mean_after = after_df['f_qty_item'].mean()\n",
    "\n",
    "# Calculate the relative change as a ratio\n",
    "relative_change = (mean_after - mean_before) / mean_before\n",
    "\n",
    "# Convert the relative change to a percentage\n",
    "percentage_change = relative_change * 100\n",
    "\n",
    "# Print the percentage change\n",
    "print(\"The quantity of item bought increased by:\", percentage_change, \"%\")"
   ]
  },
  {
   "cell_type": "code",
   "execution_count": 105,
   "metadata": {},
   "outputs": [],
   "source": [
    "# Merge transaction data and customer data together to have just Gen-Z customers\n",
    "merged_before_df = before_df.merge(cust_filtered_df, left_on='ctm_customer_id', right_on='loyalty_card_num', how='inner')\n",
    "merged_after_df = after_df.merge(cust_filtered_df, left_on='ctm_customer_id', right_on='loyalty_card_num', how='inner')"
   ]
  },
  {
   "cell_type": "code",
   "execution_count": 108,
   "metadata": {},
   "outputs": [],
   "source": [
    "merged_before_genz_df = merged_before_df[merged_before_df['generation'] == 'Gen Z']\n",
    "merged_after_genz_df = merged_after_df[merged_after_df['generation'] == 'Gen Z']"
   ]
  },
  {
   "cell_type": "code",
   "execution_count": 111,
   "metadata": {},
   "outputs": [
    {
     "name": "stdout",
     "output_type": "stream",
     "text": [
      "Number of Gen-Z people before the campaign: 3658\n",
      "Number of Gen-Z people after the campaign: 4006\n"
     ]
    }
   ],
   "source": [
    "print(\"Number of Gen-Z people before the campaign:\", merged_before_genz_df.shape[0])\n",
    "print(\"Number of Gen-Z people after the campaign:\", merged_after_genz_df.shape[0])"
   ]
  },
  {
   "cell_type": "code",
   "execution_count": 113,
   "metadata": {},
   "outputs": [
    {
     "name": "stdout",
     "output_type": "stream",
     "text": [
      "The before data does not follow a normal distribution.\n",
      "The after data does not follow a normal distribution.\n"
     ]
    }
   ],
   "source": [
    "# Assuming data is your array or list of values\n",
    "stat, p_value = shapiro(merged_before_genz_df['f_qty_item'])\n",
    "\n",
    "# Check the significance\n",
    "alpha = 0.05\n",
    "if p_value < alpha:\n",
    "    print(\"The before data does not follow a normal distribution.\")\n",
    "else:\n",
    "    print(\"The before data follows a normal distribution.\")\n",
    "    \n",
    "# Assuming data is your array or list of values\n",
    "stat, p_value = shapiro(merged_after_genz_df['f_qty_item'])\n",
    "\n",
    "# Check the significance\n",
    "alpha = 0.05\n",
    "if p_value < alpha:\n",
    "    print(\"The after data does not follow a normal distribution.\")\n",
    "else:\n",
    "    print(\"The after data follows a normal distribution.\")"
   ]
  },
  {
   "cell_type": "code",
   "execution_count": 114,
   "metadata": {},
   "outputs": [
    {
     "name": "stdout",
     "output_type": "stream",
     "text": [
      "There is a significant difference in sales between the two timelines.\n",
      "Mann-Whitney U statistic: 7531988.5\n",
      "P-value: 2.4304237971825156e-06\n"
     ]
    }
   ],
   "source": [
    "# Extract the 'f_qty_item' data for the two timelines\n",
    "before_data = merged_before_genz_df['f_qty_item']\n",
    "after_data = merged_after_genz_df['f_qty_item']\n",
    "\n",
    "# Perform Mann-Whitney U test\n",
    "statistic, p_value = mannwhitneyu(before_data, after_data, alternative='two-sided')\n",
    "\n",
    "# Check the significance\n",
    "alpha = 0.05\n",
    "if p_value < alpha:\n",
    "    print(\"There is a significant difference in sales between the two timelines.\")\n",
    "else:\n",
    "    print(\"There is no significant difference in sales between the two timelines.\")\n",
    "\n",
    "# Print the test statistic and p-value\n",
    "print(\"Mann-Whitney U statistic:\", statistic)\n",
    "print(\"P-value:\", p_value)"
   ]
  },
  {
   "cell_type": "code",
   "execution_count": 115,
   "metadata": {},
   "outputs": [
    {
     "name": "stdout",
     "output_type": "stream",
     "text": [
      "The quantity of item bought by Gen-Z increased by: -6.609282504814211 %\n"
     ]
    }
   ],
   "source": [
    "# Calculate the mean of avg_note in before_df\n",
    "mean_before = merged_before_genz_df['f_qty_item'].mean()\n",
    "\n",
    "# Calculate the mean of avg_note in after_df\n",
    "mean_after = merged_after_genz_df['f_qty_item'].mean()\n",
    "\n",
    "# Calculate the relative change as a ratio\n",
    "relative_change = (mean_after - mean_before) / mean_before\n",
    "\n",
    "# Convert the relative change to a percentage\n",
    "percentage_change = relative_change * 100\n",
    "\n",
    "# Print the percentage change\n",
    "print(\"The quantity of item bought by Gen-Z increased by:\", percentage_change, \"%\")"
   ]
  },
  {
   "cell_type": "markdown",
   "metadata": {},
   "source": [
    "B.1) If the sales of the campaign products increased or not?\n",
    "B.2) Measuring Profitability of Campaing"
   ]
  },
  {
   "cell_type": "markdown",
   "metadata": {},
   "source": [
    "#### B.2) If the sales of the campaign products increased or not? \n",
    "##### General Audience pruchased the campign product 400x more and Gen-Z customers purchased 900x more. "
   ]
  },
  {
   "cell_type": "markdown",
   "metadata": {},
   "source": [
    "Model Code: \n",
    "7635140 - Thisrt\n",
    "5015822 - Sport Bra\n",
    "7166996 - Legging\n",
    "2486222 - Shoes"
   ]
  },
  {
   "cell_type": "code",
   "execution_count": 116,
   "metadata": {},
   "outputs": [
    {
     "data": {
      "text/html": [
       "<div>\n",
       "<style scoped>\n",
       "    .dataframe tbody tr th:only-of-type {\n",
       "        vertical-align: middle;\n",
       "    }\n",
       "\n",
       "    .dataframe tbody tr th {\n",
       "        vertical-align: top;\n",
       "    }\n",
       "\n",
       "    .dataframe thead th {\n",
       "        text-align: right;\n",
       "    }\n",
       "</style>\n",
       "<table border=\"1\" class=\"dataframe\">\n",
       "  <thead>\n",
       "    <tr style=\"text-align: right;\">\n",
       "      <th></th>\n",
       "      <th>the_transaction_id</th>\n",
       "      <th>tdt_date_to_returned</th>\n",
       "      <th>the_date_transaction</th>\n",
       "      <th>sku_idr_sku</th>\n",
       "      <th>but_idr_business_unit</th>\n",
       "      <th>ctm_customer_id</th>\n",
       "      <th>the_to_type</th>\n",
       "      <th>the_transaction_status</th>\n",
       "      <th>tdt_type_detail</th>\n",
       "      <th>f_to_tax_in</th>\n",
       "      <th>...</th>\n",
       "      <th>loyalty_card_creation_date</th>\n",
       "      <th>but_idr_business_unit_usual</th>\n",
       "      <th>but_idr_business_unit_creator</th>\n",
       "      <th>cnt_country_code_creator</th>\n",
       "      <th>optin_sport</th>\n",
       "      <th>optin_review</th>\n",
       "      <th>optin_event</th>\n",
       "      <th>last_purchase_date</th>\n",
       "      <th>birthdate</th>\n",
       "      <th>generation</th>\n",
       "    </tr>\n",
       "  </thead>\n",
       "  <tbody>\n",
       "    <tr>\n",
       "      <th>0</th>\n",
       "      <td>7-276-276-20200827180648-7-6711</td>\n",
       "      <td>kept</td>\n",
       "      <td>2020-08-27</td>\n",
       "      <td>2137874</td>\n",
       "      <td>33839</td>\n",
       "      <td>4.367465e+14</td>\n",
       "      <td>offline</td>\n",
       "      <td>finished</td>\n",
       "      <td>sale</td>\n",
       "      <td>23.0</td>\n",
       "      <td>...</td>\n",
       "      <td>2013-12-12 09:18:00</td>\n",
       "      <td>33782</td>\n",
       "      <td>33839</td>\n",
       "      <td>FR</td>\n",
       "      <td>1</td>\n",
       "      <td>1</td>\n",
       "      <td>1</td>\n",
       "      <td>2020-08-27</td>\n",
       "      <td>1973-01-01</td>\n",
       "      <td>Gen X</td>\n",
       "    </tr>\n",
       "    <tr>\n",
       "      <th>1</th>\n",
       "      <td>7-724-724-20200827180714-3-3585</td>\n",
       "      <td>kept</td>\n",
       "      <td>2020-08-27</td>\n",
       "      <td>7269857</td>\n",
       "      <td>34278</td>\n",
       "      <td>2.627235e+14</td>\n",
       "      <td>offline</td>\n",
       "      <td>finished</td>\n",
       "      <td>sale</td>\n",
       "      <td>17.0</td>\n",
       "      <td>...</td>\n",
       "      <td>2013-07-03 19:20:00</td>\n",
       "      <td>34278</td>\n",
       "      <td>34278</td>\n",
       "      <td>FR</td>\n",
       "      <td>0</td>\n",
       "      <td>0</td>\n",
       "      <td>0</td>\n",
       "      <td>2021-01-11</td>\n",
       "      <td>1985-01-01</td>\n",
       "      <td>Millennials</td>\n",
       "    </tr>\n",
       "    <tr>\n",
       "      <th>2</th>\n",
       "      <td>7-724-724-20200827180714-3-3585</td>\n",
       "      <td>kept</td>\n",
       "      <td>2020-08-27</td>\n",
       "      <td>7345025</td>\n",
       "      <td>34278</td>\n",
       "      <td>2.627235e+14</td>\n",
       "      <td>offline</td>\n",
       "      <td>finished</td>\n",
       "      <td>sale</td>\n",
       "      <td>10.0</td>\n",
       "      <td>...</td>\n",
       "      <td>2013-07-03 19:20:00</td>\n",
       "      <td>34278</td>\n",
       "      <td>34278</td>\n",
       "      <td>FR</td>\n",
       "      <td>0</td>\n",
       "      <td>0</td>\n",
       "      <td>0</td>\n",
       "      <td>2021-01-11</td>\n",
       "      <td>1985-01-01</td>\n",
       "      <td>Millennials</td>\n",
       "    </tr>\n",
       "    <tr>\n",
       "      <th>3</th>\n",
       "      <td>7-724-724-20200827180714-3-3585</td>\n",
       "      <td>kept</td>\n",
       "      <td>2020-08-27</td>\n",
       "      <td>7414644</td>\n",
       "      <td>34278</td>\n",
       "      <td>2.627235e+14</td>\n",
       "      <td>offline</td>\n",
       "      <td>finished</td>\n",
       "      <td>sale</td>\n",
       "      <td>15.0</td>\n",
       "      <td>...</td>\n",
       "      <td>2013-07-03 19:20:00</td>\n",
       "      <td>34278</td>\n",
       "      <td>34278</td>\n",
       "      <td>FR</td>\n",
       "      <td>0</td>\n",
       "      <td>0</td>\n",
       "      <td>0</td>\n",
       "      <td>2021-01-11</td>\n",
       "      <td>1985-01-01</td>\n",
       "      <td>Millennials</td>\n",
       "    </tr>\n",
       "    <tr>\n",
       "      <th>4</th>\n",
       "      <td>7-724-724-20200827180714-3-3585</td>\n",
       "      <td>kept</td>\n",
       "      <td>2020-08-27</td>\n",
       "      <td>7419334</td>\n",
       "      <td>34278</td>\n",
       "      <td>2.627235e+14</td>\n",
       "      <td>offline</td>\n",
       "      <td>finished</td>\n",
       "      <td>sale</td>\n",
       "      <td>15.0</td>\n",
       "      <td>...</td>\n",
       "      <td>2013-07-03 19:20:00</td>\n",
       "      <td>34278</td>\n",
       "      <td>34278</td>\n",
       "      <td>FR</td>\n",
       "      <td>0</td>\n",
       "      <td>0</td>\n",
       "      <td>0</td>\n",
       "      <td>2021-01-11</td>\n",
       "      <td>1985-01-01</td>\n",
       "      <td>Millennials</td>\n",
       "    </tr>\n",
       "  </tbody>\n",
       "</table>\n",
       "<p>5 rows × 27 columns</p>\n",
       "</div>"
      ],
      "text/plain": [
       "                the_transaction_id tdt_date_to_returned the_date_transaction  \\\n",
       "0  7-276-276-20200827180648-7-6711                 kept           2020-08-27   \n",
       "1  7-724-724-20200827180714-3-3585                 kept           2020-08-27   \n",
       "2  7-724-724-20200827180714-3-3585                 kept           2020-08-27   \n",
       "3  7-724-724-20200827180714-3-3585                 kept           2020-08-27   \n",
       "4  7-724-724-20200827180714-3-3585                 kept           2020-08-27   \n",
       "\n",
       "   sku_idr_sku  but_idr_business_unit  ctm_customer_id the_to_type  \\\n",
       "0      2137874                  33839     4.367465e+14     offline   \n",
       "1      7269857                  34278     2.627235e+14     offline   \n",
       "2      7345025                  34278     2.627235e+14     offline   \n",
       "3      7414644                  34278     2.627235e+14     offline   \n",
       "4      7419334                  34278     2.627235e+14     offline   \n",
       "\n",
       "  the_transaction_status tdt_type_detail  f_to_tax_in  ...  \\\n",
       "0               finished            sale         23.0  ...   \n",
       "1               finished            sale         17.0  ...   \n",
       "2               finished            sale         10.0  ...   \n",
       "3               finished            sale         15.0  ...   \n",
       "4               finished            sale         15.0  ...   \n",
       "\n",
       "   loyalty_card_creation_date  but_idr_business_unit_usual  \\\n",
       "0         2013-12-12 09:18:00                        33782   \n",
       "1         2013-07-03 19:20:00                        34278   \n",
       "2         2013-07-03 19:20:00                        34278   \n",
       "3         2013-07-03 19:20:00                        34278   \n",
       "4         2013-07-03 19:20:00                        34278   \n",
       "\n",
       "   but_idr_business_unit_creator  cnt_country_code_creator optin_sport  \\\n",
       "0                          33839                        FR           1   \n",
       "1                          34278                        FR           0   \n",
       "2                          34278                        FR           0   \n",
       "3                          34278                        FR           0   \n",
       "4                          34278                        FR           0   \n",
       "\n",
       "  optin_review optin_event last_purchase_date  birthdate   generation  \n",
       "0            1           1         2020-08-27 1973-01-01        Gen X  \n",
       "1            0           0         2021-01-11 1985-01-01  Millennials  \n",
       "2            0           0         2021-01-11 1985-01-01  Millennials  \n",
       "3            0           0         2021-01-11 1985-01-01  Millennials  \n",
       "4            0           0         2021-01-11 1985-01-01  Millennials  \n",
       "\n",
       "[5 rows x 27 columns]"
      ]
     },
     "execution_count": 116,
     "metadata": {},
     "output_type": "execute_result"
    }
   ],
   "source": [
    "merged_before_df.head()"
   ]
  },
  {
   "cell_type": "code",
   "execution_count": 122,
   "metadata": {},
   "outputs": [],
   "source": [
    "# create a column with just product numbers to easify process\n",
    "mdl_num_df = sku_df[['mdl_num_model_r3', 'sku_idr_sku']].copy()"
   ]
  },
  {
   "cell_type": "code",
   "execution_count": 127,
   "metadata": {
    "scrolled": true
   },
   "outputs": [],
   "source": [
    "# Merge product number to eleminate campaign products\n",
    "merged_before_mdl_num_df = merged_before_df.merge(mdl_num_df, left_on='sku_idr_sku', right_on='sku_idr_sku', how='left')\n",
    "merged_after_mdl_num_df= merged_after_df.merge(mdl_num_df, left_on='sku_idr_sku', right_on='sku_idr_sku', how='left')"
   ]
  },
  {
   "cell_type": "code",
   "execution_count": 133,
   "metadata": {},
   "outputs": [
    {
     "name": "stdout",
     "output_type": "stream",
     "text": [
      "Number of products sold before the campaign: 96\n",
      "Number of products sold after the campaign: 4433\n"
     ]
    }
   ],
   "source": [
    "# Create a list of campign products\n",
    "product_codes = ['7635140', '5015822', '7166996', '2486222']\n",
    "\n",
    "filtered_before_prod_df = merged_before_mdl_num_df[merged_before_mdl_num_df['mdl_num_model_r3'].isin(product_codes)].copy()\n",
    "filtered_after_prod_df = merged_after_mdl_num_df[merged_after_mdl_num_df['mdl_num_model_r3'].isin(product_codes)].copy()\n",
    "\n",
    "print(\"Number of products sold before the campaign:\", filtered_before_prod_df.shape[0])\n",
    "print(\"Number of products sold after the campaign:\", filtered_after_prod_df.shape[0])"
   ]
  },
  {
   "cell_type": "code",
   "execution_count": 140,
   "metadata": {},
   "outputs": [
    {
     "name": "stdout",
     "output_type": "stream",
     "text": [
      "There is a significant difference between the groups.\n",
      "Welch's t-statistic: -14.748488809260264\n",
      "P-value: 3.2214894733894145e-49\n"
     ]
    }
   ],
   "source": [
    "from scipy.stats import ttest_ind\n",
    "\n",
    "# Sample sizes are different, don't use Wilkonson's Test, distribution and variance is unknown\n",
    "# Perform Welch's t-test\n",
    "t_stat, p_value = ttest_ind(merged_before_mdl_num_df['mdl_num_model_r3'], merged_after_mdl_num_df['mdl_num_model_r3'], equal_var=False)\n",
    "\n",
    "# Check the significance\n",
    "alpha = 0.05\n",
    "if p_value < alpha:\n",
    "    print(\"There is a significant difference between the groups.\")\n",
    "else:\n",
    "    print(\"There is no significant difference between the groups.\")\n",
    "\n",
    "# Print the t-statistic and p-value\n",
    "print(\"Welch's t-statistic:\", t_stat)\n",
    "print(\"P-value:\", p_value)"
   ]
  },
  {
   "cell_type": "code",
   "execution_count": 145,
   "metadata": {},
   "outputs": [
    {
     "name": "stdout",
     "output_type": "stream",
     "text": [
      "The increase in sales: 4517.708333333334 %\n"
     ]
    }
   ],
   "source": [
    "#Calculate increase\n",
    "\n",
    "before = filtered_before_prod_df.shape[0]\n",
    "after = filtered_after_prod_df.shape[0]\n",
    "\n",
    "increase = (after - before) / before * 100\n",
    "print(\"The increase in sales:\", increase, \"%\")"
   ]
  },
  {
   "cell_type": "code",
   "execution_count": 147,
   "metadata": {},
   "outputs": [],
   "source": [
    "# Check it for Gen-Z now\n",
    "\n",
    "filtered_before_genz_df = filtered_before_prod_df[filtered_before_prod_df['generation'] == 'Gen Z']\n",
    "filtered_after_genz_df = filtered_after_prod_df[filtered_after_prod_df['generation'] == 'Gen Z']"
   ]
  },
  {
   "cell_type": "code",
   "execution_count": 155,
   "metadata": {},
   "outputs": [
    {
     "name": "stdout",
     "output_type": "stream",
     "text": [
      "There is no significant difference between the groups.\n",
      "Welch's t-statistic: nan\n",
      "P-value: nan\n"
     ]
    },
    {
     "name": "stderr",
     "output_type": "stream",
     "text": [
      "C:\\Users\\Irem Umut Yasik\\Anaconda3\\lib\\site-packages\\numpy\\core\\fromnumeric.py:3621: RuntimeWarning: Degrees of freedom <= 0 for slice\n",
      "  return _methods._var(a, axis=axis, dtype=dtype, out=out, ddof=ddof,\n",
      "C:\\Users\\Irem Umut Yasik\\Anaconda3\\lib\\site-packages\\numpy\\core\\_methods.py:226: RuntimeWarning: invalid value encountered in double_scalars\n",
      "  ret = ret.dtype.type(ret / rcount)\n"
     ]
    }
   ],
   "source": [
    "# Due to unbalanced nature of sample sizes, 8 to 740 statistical tests do not work, \n",
    "# However looking at the increase we can say that the campign increase the sales in choosen products. \n",
    "\n",
    "before = filtered_before_genz_df['mdl_num_model_r3'].shape[0]\n",
    "after = filtered_after_genz_df['mdl_num_model_r3'].shape[0]\n",
    "\n",
    "# Perform Welch's t-test\n",
    "t_stat, p_value = ttest_ind(before, after, equal_var=False)\n",
    "\n",
    "# Check the significance\n",
    "alpha = 0.05\n",
    "if p_value < alpha:\n",
    "    print(\"There is a significant difference between the groups.\")\n",
    "else:\n",
    "    print(\"There is no significant difference between the groups.\")\n",
    "\n",
    "# Print the t-statistic and p-value\n",
    "print(\"Welch's t-statistic:\", t_stat)\n",
    "print(\"P-value:\", p_value)"
   ]
  },
  {
   "cell_type": "code",
   "execution_count": 158,
   "metadata": {},
   "outputs": [
    {
     "name": "stdout",
     "output_type": "stream",
     "text": [
      "The increase in sales: 9150.0 %\n"
     ]
    }
   ],
   "source": [
    "#Calculate increase\n",
    "\n",
    "increase = (after - before) / before * 100\n",
    "print(\"The increase in sales:\", increase, \"%\")"
   ]
  },
  {
   "cell_type": "markdown",
   "metadata": {},
   "source": [
    "#### B.3) Profitability of Campaign\n",
    "##### The profitability of campaigh is 86.5% and the profit is 191,603.80"
   ]
  },
  {
   "cell_type": "code",
   "execution_count": null,
   "metadata": {},
   "outputs": [],
   "source": [
    "# Revenue projection among all customer\n",
    "# Appoint prices to products \n",
    "\n",
    "# 7635140 - Thisrt - 14.90\n",
    "# 5015822 - Sport Bra - 19.90 \n",
    "# 7166996 - Legging - 24.90\n",
    "# 2486222 - Shoes - 49.90"
   ]
  },
  {
   "cell_type": "code",
   "execution_count": 172,
   "metadata": {},
   "outputs": [],
   "source": [
    "df_transaction = pd.read_csv('f_transaction_detail.csv')"
   ]
  },
  {
   "cell_type": "code",
   "execution_count": 174,
   "metadata": {},
   "outputs": [],
   "source": [
    "# Convert the_date_transaction column to datetime format\n",
    "df_transaction['the_date_transaction'] = pd.to_datetime(df_transaction['the_date_transaction'])\n",
    "\n",
    "# Extract date from the_date_transaction\n",
    "df_transaction['transaction_date'] = df_transaction['the_date_transaction'].dt.date\n",
    "\n",
    "# Filter transactions related to the influencer campaign\n",
    "campaign_date = pd.to_datetime('2020-09-04').date()  # Adjust the date as needed\n",
    "campaign_transactions = df_transaction[df_transaction['transaction_date'] == campaign_date]"
   ]
  },
  {
   "cell_type": "code",
   "execution_count": 179,
   "metadata": {},
   "outputs": [],
   "source": [
    "df_sku = pd.read_csv('d_sku.csv')\n",
    "\n",
    "# Merge the dataframes based on the sku_idr_sku column\n",
    "merged_df = pd.merge(campaign_transactions, df_sku, on='sku_idr_sku', how='left')"
   ]
  },
  {
   "cell_type": "code",
   "execution_count": 181,
   "metadata": {},
   "outputs": [
    {
     "data": {
      "text/plain": [
       "Index(['the_transaction_id', 'tdt_date_to_returned', 'the_date_transaction',\n",
       "       'the_date_authorized', 'sku_idr_sku', 'but_idr_business_unit',\n",
       "       'ctm_customer_id', 'ctm_zip_code', 'the_to_type',\n",
       "       'the_transaction_status', 'tdt_type_detail', 'f_to_tax_in',\n",
       "       'f_qty_item', 'transaction_date', 'mdl_num_model_r3',\n",
       "       'mdl_blue_product', 'fam_num_family', 'family_label',\n",
       "       'sdp_num_sub_department', 'sdp_label', 'dpt_num_department',\n",
       "       'dpt_label', 'unv_num_univers', 'unv_label', 'pnt_num_product_nature',\n",
       "       'product_nature_label', 'category_label', 'brd_type_brand_libelle',\n",
       "       'sku_date_end'],\n",
       "      dtype='object')"
      ]
     },
     "execution_count": 181,
     "metadata": {},
     "output_type": "execute_result"
    }
   ],
   "source": [
    "merged_df.columns\n"
   ]
  },
  {
   "cell_type": "code",
   "execution_count": 183,
   "metadata": {},
   "outputs": [],
   "source": [
    "# Define the values to filter\n",
    "filter_values = [7635140, 5015822, 7166996, 2486222]\n",
    "\n",
    "# Filter the dataframe based on the values\n",
    "filtered_df = merged_df[merged_df['mdl_num_model_r3'].isin(filter_values)]"
   ]
  },
  {
   "cell_type": "code",
   "execution_count": 186,
   "metadata": {},
   "outputs": [
    {
     "name": "stderr",
     "output_type": "stream",
     "text": [
      "<ipython-input-186-0b264c352bc9>:10: SettingWithCopyWarning: \n",
      "A value is trying to be set on a copy of a slice from a DataFrame.\n",
      "Try using .loc[row_indexer,col_indexer] = value instead\n",
      "\n",
      "See the caveats in the documentation: https://pandas.pydata.org/pandas-docs/stable/user_guide/indexing.html#returning-a-view-versus-a-copy\n",
      "  filtered_df['price'] = filtered_df['product_nature_label'].map(price_mapping)\n"
     ]
    }
   ],
   "source": [
    "# Define the price mapping\n",
    "price_mapping = {\n",
    "    'T-SHIRT': 14.90,\n",
    "    'BRA': 19.90,\n",
    "    'LEGGINGS': 24.90,\n",
    "    'SHOES': 49.90\n",
    "}\n",
    "\n",
    "# Assign prices based on the product_nature_label column\n",
    "filtered_df['price'] = filtered_df['product_nature_label'].map(price_mapping)"
   ]
  },
  {
   "cell_type": "code",
   "execution_count": 192,
   "metadata": {},
   "outputs": [
    {
     "name": "stderr",
     "output_type": "stream",
     "text": [
      "C:\\Users\\Irem Umut Yasik\\Anaconda3\\lib\\site-packages\\pandas\\core\\series.py:4517: SettingWithCopyWarning: \n",
      "A value is trying to be set on a copy of a slice from a DataFrame\n",
      "\n",
      "See the caveats in the documentation: https://pandas.pydata.org/pandas-docs/stable/user_guide/indexing.html#returning-a-view-versus-a-copy\n",
      "  return super().fillna(\n",
      "C:\\Users\\Irem Umut Yasik\\Anaconda3\\lib\\site-packages\\pandas\\core\\series.py:4563: SettingWithCopyWarning: \n",
      "A value is trying to be set on a copy of a slice from a DataFrame\n",
      "\n",
      "See the caveats in the documentation: https://pandas.pydata.org/pandas-docs/stable/user_guide/indexing.html#returning-a-view-versus-a-copy\n",
      "  return super().replace(\n"
     ]
    }
   ],
   "source": [
    "# Update NaN values in tdt_date_to_returned column with 'kept'\n",
    "filtered_df['tdt_date_to_returned'].fillna('kept', inplace=True)\n",
    "\n",
    "# Update non-null values in tdt_date_to_returned column with 'returned'\n",
    "filtered_df['tdt_date_to_returned'].replace(np.nan, 'returned', inplace=True)"
   ]
  },
  {
   "cell_type": "code",
   "execution_count": 194,
   "metadata": {
    "scrolled": true
   },
   "outputs": [
    {
     "name": "stderr",
     "output_type": "stream",
     "text": [
      "<ipython-input-194-8f0743ddc210>:2: SettingWithCopyWarning: \n",
      "A value is trying to be set on a copy of a slice from a DataFrame.\n",
      "Try using .loc[row_indexer,col_indexer] = value instead\n",
      "\n",
      "See the caveats in the documentation: https://pandas.pydata.org/pandas-docs/stable/user_guide/indexing.html#returning-a-view-versus-a-copy\n",
      "  filtered_df['quantity_price'] = filtered_df['f_qty_item'] * filtered_df['price']\n"
     ]
    }
   ],
   "source": [
    "# Multiply f_qty_item and price to calculate the quantity_price\n",
    "filtered_df['quantity_price'] = filtered_df['f_qty_item'] * filtered_df['price']"
   ]
  },
  {
   "cell_type": "code",
   "execution_count": 206,
   "metadata": {},
   "outputs": [
    {
     "data": {
      "text/html": [
       "<div>\n",
       "<style scoped>\n",
       "    .dataframe tbody tr th:only-of-type {\n",
       "        vertical-align: middle;\n",
       "    }\n",
       "\n",
       "    .dataframe tbody tr th {\n",
       "        vertical-align: top;\n",
       "    }\n",
       "\n",
       "    .dataframe thead th {\n",
       "        text-align: right;\n",
       "    }\n",
       "</style>\n",
       "<table border=\"1\" class=\"dataframe\">\n",
       "  <thead>\n",
       "    <tr style=\"text-align: right;\">\n",
       "      <th></th>\n",
       "      <th>the_transaction_id</th>\n",
       "      <th>tdt_date_to_returned</th>\n",
       "      <th>the_date_transaction</th>\n",
       "      <th>the_date_authorized</th>\n",
       "      <th>sku_idr_sku</th>\n",
       "      <th>but_idr_business_unit</th>\n",
       "      <th>ctm_customer_id</th>\n",
       "      <th>ctm_zip_code</th>\n",
       "      <th>the_to_type</th>\n",
       "      <th>the_transaction_status</th>\n",
       "      <th>...</th>\n",
       "      <th>dpt_label</th>\n",
       "      <th>unv_num_univers</th>\n",
       "      <th>unv_label</th>\n",
       "      <th>pnt_num_product_nature</th>\n",
       "      <th>product_nature_label</th>\n",
       "      <th>category_label</th>\n",
       "      <th>brd_type_brand_libelle</th>\n",
       "      <th>sku_date_end</th>\n",
       "      <th>price</th>\n",
       "      <th>quantity_price</th>\n",
       "    </tr>\n",
       "  </thead>\n",
       "  <tbody>\n",
       "    <tr>\n",
       "      <th>328</th>\n",
       "      <td>50-13-13-20200904104818-1-1827775782</td>\n",
       "      <td>kept</td>\n",
       "      <td>2020-09-04 10:48:18</td>\n",
       "      <td>2020-09-04 10:48:23</td>\n",
       "      <td>7463476</td>\n",
       "      <td>262186</td>\n",
       "      <td>8.604535e+14</td>\n",
       "      <td>75</td>\n",
       "      <td>online</td>\n",
       "      <td>finished</td>\n",
       "      <td>...</td>\n",
       "      <td>FITNESS</td>\n",
       "      <td>6</td>\n",
       "      <td>FITNESS CARDIO</td>\n",
       "      <td>25082</td>\n",
       "      <td>BRA</td>\n",
       "      <td>CLOTHING</td>\n",
       "      <td>MP</td>\n",
       "      <td>2999-12-31 23:59:59</td>\n",
       "      <td>19.9</td>\n",
       "      <td>19.9</td>\n",
       "    </tr>\n",
       "    <tr>\n",
       "      <th>329</th>\n",
       "      <td>50-13-13-20200904104714-1-1828523434</td>\n",
       "      <td>kept</td>\n",
       "      <td>2020-09-04 10:47:14</td>\n",
       "      <td>2020-09-04 10:48:30</td>\n",
       "      <td>7442821</td>\n",
       "      <td>262186</td>\n",
       "      <td>6.897239e+14</td>\n",
       "      <td>60</td>\n",
       "      <td>online</td>\n",
       "      <td>finished</td>\n",
       "      <td>...</td>\n",
       "      <td>FITNESS</td>\n",
       "      <td>6</td>\n",
       "      <td>FITNESS CARDIO</td>\n",
       "      <td>25126</td>\n",
       "      <td>SHOES</td>\n",
       "      <td>FOOTWEAR</td>\n",
       "      <td>MP</td>\n",
       "      <td>2999-12-31 23:59:59</td>\n",
       "      <td>49.9</td>\n",
       "      <td>49.9</td>\n",
       "    </tr>\n",
       "    <tr>\n",
       "      <th>330</th>\n",
       "      <td>50-13-13-20200904104714-1-1828523434</td>\n",
       "      <td>kept</td>\n",
       "      <td>2020-09-04 10:47:14</td>\n",
       "      <td>2020-09-04 10:48:30</td>\n",
       "      <td>7452821</td>\n",
       "      <td>262186</td>\n",
       "      <td>6.897239e+14</td>\n",
       "      <td>60</td>\n",
       "      <td>online</td>\n",
       "      <td>finished</td>\n",
       "      <td>...</td>\n",
       "      <td>FITNESS</td>\n",
       "      <td>6</td>\n",
       "      <td>FITNESS CARDIO</td>\n",
       "      <td>25082</td>\n",
       "      <td>BRA</td>\n",
       "      <td>CLOTHING</td>\n",
       "      <td>MP</td>\n",
       "      <td>2999-12-31 23:59:59</td>\n",
       "      <td>19.9</td>\n",
       "      <td>19.9</td>\n",
       "    </tr>\n",
       "    <tr>\n",
       "      <th>332</th>\n",
       "      <td>50-13-13-20200904104853-1-1828045595</td>\n",
       "      <td>kept</td>\n",
       "      <td>2020-09-04 10:48:53</td>\n",
       "      <td>2020-09-04 10:48:58</td>\n",
       "      <td>7463948</td>\n",
       "      <td>262186</td>\n",
       "      <td>3.517404e+14</td>\n",
       "      <td>13</td>\n",
       "      <td>online</td>\n",
       "      <td>finished</td>\n",
       "      <td>...</td>\n",
       "      <td>FITNESS</td>\n",
       "      <td>6</td>\n",
       "      <td>FITNESS CARDIO</td>\n",
       "      <td>25082</td>\n",
       "      <td>BRA</td>\n",
       "      <td>CLOTHING</td>\n",
       "      <td>MP</td>\n",
       "      <td>2999-12-31 23:59:59</td>\n",
       "      <td>19.9</td>\n",
       "      <td>19.9</td>\n",
       "    </tr>\n",
       "    <tr>\n",
       "      <th>333</th>\n",
       "      <td>50-13-13-20200904104853-1-1828045595</td>\n",
       "      <td>kept</td>\n",
       "      <td>2020-09-04 10:48:53</td>\n",
       "      <td>2020-09-04 10:48:58</td>\n",
       "      <td>7468857</td>\n",
       "      <td>262186</td>\n",
       "      <td>3.517404e+14</td>\n",
       "      <td>13</td>\n",
       "      <td>online</td>\n",
       "      <td>finished</td>\n",
       "      <td>...</td>\n",
       "      <td>FITNESS</td>\n",
       "      <td>6</td>\n",
       "      <td>FITNESS CARDIO</td>\n",
       "      <td>10170</td>\n",
       "      <td>LEGGINGS</td>\n",
       "      <td>CLOTHING</td>\n",
       "      <td>MP</td>\n",
       "      <td>2999-12-31 23:59:59</td>\n",
       "      <td>24.9</td>\n",
       "      <td>24.9</td>\n",
       "    </tr>\n",
       "  </tbody>\n",
       "</table>\n",
       "<p>5 rows × 31 columns</p>\n",
       "</div>"
      ],
      "text/plain": [
       "                       the_transaction_id tdt_date_to_returned  \\\n",
       "328  50-13-13-20200904104818-1-1827775782                 kept   \n",
       "329  50-13-13-20200904104714-1-1828523434                 kept   \n",
       "330  50-13-13-20200904104714-1-1828523434                 kept   \n",
       "332  50-13-13-20200904104853-1-1828045595                 kept   \n",
       "333  50-13-13-20200904104853-1-1828045595                 kept   \n",
       "\n",
       "    the_date_transaction  the_date_authorized  sku_idr_sku  \\\n",
       "328  2020-09-04 10:48:18  2020-09-04 10:48:23      7463476   \n",
       "329  2020-09-04 10:47:14  2020-09-04 10:48:30      7442821   \n",
       "330  2020-09-04 10:47:14  2020-09-04 10:48:30      7452821   \n",
       "332  2020-09-04 10:48:53  2020-09-04 10:48:58      7463948   \n",
       "333  2020-09-04 10:48:53  2020-09-04 10:48:58      7468857   \n",
       "\n",
       "     but_idr_business_unit  ctm_customer_id ctm_zip_code the_to_type  \\\n",
       "328                 262186     8.604535e+14           75      online   \n",
       "329                 262186     6.897239e+14           60      online   \n",
       "330                 262186     6.897239e+14           60      online   \n",
       "332                 262186     3.517404e+14           13      online   \n",
       "333                 262186     3.517404e+14           13      online   \n",
       "\n",
       "    the_transaction_status  ... dpt_label  unv_num_univers       unv_label  \\\n",
       "328               finished  ...   FITNESS                6  FITNESS CARDIO   \n",
       "329               finished  ...   FITNESS                6  FITNESS CARDIO   \n",
       "330               finished  ...   FITNESS                6  FITNESS CARDIO   \n",
       "332               finished  ...   FITNESS                6  FITNESS CARDIO   \n",
       "333               finished  ...   FITNESS                6  FITNESS CARDIO   \n",
       "\n",
       "    pnt_num_product_nature  product_nature_label  category_label  \\\n",
       "328                  25082                   BRA        CLOTHING   \n",
       "329                  25126                 SHOES        FOOTWEAR   \n",
       "330                  25082                   BRA        CLOTHING   \n",
       "332                  25082                   BRA        CLOTHING   \n",
       "333                  10170              LEGGINGS        CLOTHING   \n",
       "\n",
       "     brd_type_brand_libelle         sku_date_end  price quantity_price  \n",
       "328                      MP  2999-12-31 23:59:59   19.9           19.9  \n",
       "329                      MP  2999-12-31 23:59:59   49.9           49.9  \n",
       "330                      MP  2999-12-31 23:59:59   19.9           19.9  \n",
       "332                      MP  2999-12-31 23:59:59   19.9           19.9  \n",
       "333                      MP  2999-12-31 23:59:59   24.9           24.9  \n",
       "\n",
       "[5 rows x 31 columns]"
      ]
     },
     "execution_count": 206,
     "metadata": {},
     "output_type": "execute_result"
    }
   ],
   "source": [
    "filtered_df.head()"
   ]
  },
  {
   "cell_type": "code",
   "execution_count": 214,
   "metadata": {},
   "outputs": [
    {
     "name": "stdout",
     "output_type": "stream",
     "text": [
      "221603.79999999996\n"
     ]
    }
   ],
   "source": [
    "# Filter the dataframe based on 'tdt_date_to_returned' column value\n",
    "kept_rows = filtered_df[filtered_df['tdt_date_to_returned'] == 'kept']\n",
    "\n",
    "# Calculate the sum of 'quantity_price' column for 'kept' rows\n",
    "sum_quantity_price = kept_rows['quantity_price'].sum()\n",
    "\n",
    "# Display the sum\n",
    "print(sum_quantity_price)"
   ]
  },
  {
   "cell_type": "code",
   "execution_count": 215,
   "metadata": {},
   "outputs": [
    {
     "name": "stdout",
     "output_type": "stream",
     "text": [
      "-12673.099999999999\n"
     ]
    }
   ],
   "source": [
    "# Filter the dataframe based on 'tdt_date_to_returned' column value\n",
    "not_kept_rows = filtered_df[filtered_df['tdt_date_to_returned'] != 'kept']\n",
    "\n",
    "# Calculate the sum of 'quantity_price' column for rows not 'kept'\n",
    "sum_quantity_price_not_kept = not_kept_rows['quantity_price'].sum()\n",
    "\n",
    "# Display the sum\n",
    "print(sum_quantity_price_not_kept)"
   ]
  },
  {
   "cell_type": "code",
   "execution_count": 219,
   "metadata": {},
   "outputs": [
    {
     "name": "stdout",
     "output_type": "stream",
     "text": [
      "The profitability of campaigh is: 86.462326007045 %\n",
      "Profit: 191603.80\n"
     ]
    }
   ],
   "source": [
    "budget = 30000\n",
    "\n",
    "profitability = (sum_quantity_price - budget) / sum_quantity_price * 100\n",
    "print(\"The profitability of campaigh is:\", profitability, \"%\")\n",
    "\n",
    "profit = sum_quantity_price - budget\n",
    "\n",
    "# Display the profit\n",
    "print(f\"Profit: {profit:.2f}\")"
   ]
  }
 ],
 "metadata": {
  "kernelspec": {
   "display_name": "Python 3",
   "language": "python",
   "name": "python3"
  },
  "language_info": {
   "codemirror_mode": {
    "name": "ipython",
    "version": 3
   },
   "file_extension": ".py",
   "mimetype": "text/x-python",
   "name": "python",
   "nbconvert_exporter": "python",
   "pygments_lexer": "ipython3",
   "version": "3.8.5"
  }
 },
 "nbformat": 4,
 "nbformat_minor": 4
}
